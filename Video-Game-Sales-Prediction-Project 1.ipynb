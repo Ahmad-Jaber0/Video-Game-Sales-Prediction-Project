{
 "cells": [
  {
   "cell_type": "markdown",
   "id": "35239198",
   "metadata": {},
   "source": [
    "# Video Games Sales Prediction"
   ]
  },
  {
   "cell_type": "code",
   "execution_count": 1,
   "id": "c7b4d50d",
   "metadata": {},
   "outputs": [],
   "source": [
    "import pandas as pd\n",
    "import numpy as np\n",
    "\n",
    "from sklearn.model_selection import train_test_split\n",
    "from sklearn.impute import SimpleImputer\n",
    "from sklearn.preprocessing import StandardScaler\n",
    "from sklearn.model_selection import train_test_split\n",
    "from sklearn.model_selection import StratifiedShuffleSplit\n",
    "from matplotlib import pyplot"
   ]
  },
  {
   "cell_type": "markdown",
   "id": "bddb35c9",
   "metadata": {},
   "source": [
    "## Get the data"
   ]
  },
  {
   "cell_type": "markdown",
   "id": "91d86ecf",
   "metadata": {},
   "source": [
    "We will start by importing the data: "
   ]
  },
  {
   "cell_type": "code",
   "execution_count": 2,
   "id": "20d4499c",
   "metadata": {},
   "outputs": [],
   "source": [
    "data = pd.read_csv('./Video-Game-Sales.csv',index_col='Rank')"
   ]
  },
  {
   "cell_type": "code",
   "execution_count": 3,
   "id": "b158ee02",
   "metadata": {},
   "outputs": [
    {
     "name": "stdout",
     "output_type": "stream",
     "text": [
      "<class 'pandas.core.frame.DataFrame'>\n",
      "Int64Index: 16598 entries, 1 to 16600\n",
      "Data columns (total 10 columns):\n",
      " #   Column        Non-Null Count  Dtype  \n",
      "---  ------        --------------  -----  \n",
      " 0   Name          16598 non-null  object \n",
      " 1   Platform      16598 non-null  object \n",
      " 2   Year          16327 non-null  float64\n",
      " 3   Genre         16598 non-null  object \n",
      " 4   Publisher     16540 non-null  object \n",
      " 5   NA_Sales      16598 non-null  float64\n",
      " 6   EU_Sales      16598 non-null  float64\n",
      " 7   JP_Sales      16598 non-null  float64\n",
      " 8   Other_Sales   16598 non-null  float64\n",
      " 9   Global_Sales  16598 non-null  float64\n",
      "dtypes: float64(6), object(4)\n",
      "memory usage: 1.4+ MB\n"
     ]
    }
   ],
   "source": [
    "data.info()"
   ]
  },
  {
   "cell_type": "markdown",
   "id": "2c1db529",
   "metadata": {},
   "source": [
    "We have 16598 rows and 10 columns"
   ]
  },
  {
   "cell_type": "code",
   "execution_count": 4,
   "id": "454b6868",
   "metadata": {},
   "outputs": [
    {
     "data": {
      "text/html": [
       "<div>\n",
       "<style scoped>\n",
       "    .dataframe tbody tr th:only-of-type {\n",
       "        vertical-align: middle;\n",
       "    }\n",
       "\n",
       "    .dataframe tbody tr th {\n",
       "        vertical-align: top;\n",
       "    }\n",
       "\n",
       "    .dataframe thead th {\n",
       "        text-align: right;\n",
       "    }\n",
       "</style>\n",
       "<table border=\"1\" class=\"dataframe\">\n",
       "  <thead>\n",
       "    <tr style=\"text-align: right;\">\n",
       "      <th></th>\n",
       "      <th>Name</th>\n",
       "      <th>Platform</th>\n",
       "      <th>Year</th>\n",
       "      <th>Genre</th>\n",
       "      <th>Publisher</th>\n",
       "      <th>NA_Sales</th>\n",
       "      <th>EU_Sales</th>\n",
       "      <th>JP_Sales</th>\n",
       "      <th>Other_Sales</th>\n",
       "      <th>Global_Sales</th>\n",
       "    </tr>\n",
       "    <tr>\n",
       "      <th>Rank</th>\n",
       "      <th></th>\n",
       "      <th></th>\n",
       "      <th></th>\n",
       "      <th></th>\n",
       "      <th></th>\n",
       "      <th></th>\n",
       "      <th></th>\n",
       "      <th></th>\n",
       "      <th></th>\n",
       "      <th></th>\n",
       "    </tr>\n",
       "  </thead>\n",
       "  <tbody>\n",
       "    <tr>\n",
       "      <th>1</th>\n",
       "      <td>Wii Sports</td>\n",
       "      <td>Wii</td>\n",
       "      <td>2006.0</td>\n",
       "      <td>Sports</td>\n",
       "      <td>Nintendo</td>\n",
       "      <td>41.49</td>\n",
       "      <td>29.02</td>\n",
       "      <td>3.77</td>\n",
       "      <td>8.46</td>\n",
       "      <td>82.74</td>\n",
       "    </tr>\n",
       "    <tr>\n",
       "      <th>2</th>\n",
       "      <td>Super Mario Bros.</td>\n",
       "      <td>NES</td>\n",
       "      <td>1985.0</td>\n",
       "      <td>Platform</td>\n",
       "      <td>Nintendo</td>\n",
       "      <td>29.08</td>\n",
       "      <td>3.58</td>\n",
       "      <td>6.81</td>\n",
       "      <td>0.77</td>\n",
       "      <td>40.24</td>\n",
       "    </tr>\n",
       "    <tr>\n",
       "      <th>3</th>\n",
       "      <td>Mario Kart Wii</td>\n",
       "      <td>Wii</td>\n",
       "      <td>2008.0</td>\n",
       "      <td>Racing</td>\n",
       "      <td>Nintendo</td>\n",
       "      <td>15.85</td>\n",
       "      <td>12.88</td>\n",
       "      <td>3.79</td>\n",
       "      <td>3.31</td>\n",
       "      <td>35.82</td>\n",
       "    </tr>\n",
       "    <tr>\n",
       "      <th>4</th>\n",
       "      <td>Wii Sports Resort</td>\n",
       "      <td>Wii</td>\n",
       "      <td>2009.0</td>\n",
       "      <td>Sports</td>\n",
       "      <td>Nintendo</td>\n",
       "      <td>15.75</td>\n",
       "      <td>11.01</td>\n",
       "      <td>3.28</td>\n",
       "      <td>2.96</td>\n",
       "      <td>33.00</td>\n",
       "    </tr>\n",
       "    <tr>\n",
       "      <th>5</th>\n",
       "      <td>Pokemon Red/Pokemon Blue</td>\n",
       "      <td>GB</td>\n",
       "      <td>1996.0</td>\n",
       "      <td>Role-Playing</td>\n",
       "      <td>Nintendo</td>\n",
       "      <td>11.27</td>\n",
       "      <td>8.89</td>\n",
       "      <td>10.22</td>\n",
       "      <td>1.00</td>\n",
       "      <td>31.37</td>\n",
       "    </tr>\n",
       "    <tr>\n",
       "      <th>6</th>\n",
       "      <td>Tetris</td>\n",
       "      <td>GB</td>\n",
       "      <td>1989.0</td>\n",
       "      <td>Puzzle</td>\n",
       "      <td>Nintendo</td>\n",
       "      <td>23.20</td>\n",
       "      <td>2.26</td>\n",
       "      <td>4.22</td>\n",
       "      <td>0.58</td>\n",
       "      <td>30.26</td>\n",
       "    </tr>\n",
       "    <tr>\n",
       "      <th>7</th>\n",
       "      <td>New Super Mario Bros.</td>\n",
       "      <td>DS</td>\n",
       "      <td>2006.0</td>\n",
       "      <td>Platform</td>\n",
       "      <td>Nintendo</td>\n",
       "      <td>11.38</td>\n",
       "      <td>9.23</td>\n",
       "      <td>6.50</td>\n",
       "      <td>2.90</td>\n",
       "      <td>30.01</td>\n",
       "    </tr>\n",
       "    <tr>\n",
       "      <th>8</th>\n",
       "      <td>Wii Play</td>\n",
       "      <td>Wii</td>\n",
       "      <td>2006.0</td>\n",
       "      <td>Misc</td>\n",
       "      <td>Nintendo</td>\n",
       "      <td>14.03</td>\n",
       "      <td>9.20</td>\n",
       "      <td>2.93</td>\n",
       "      <td>2.85</td>\n",
       "      <td>29.02</td>\n",
       "    </tr>\n",
       "    <tr>\n",
       "      <th>9</th>\n",
       "      <td>New Super Mario Bros. Wii</td>\n",
       "      <td>Wii</td>\n",
       "      <td>2009.0</td>\n",
       "      <td>Platform</td>\n",
       "      <td>Nintendo</td>\n",
       "      <td>14.59</td>\n",
       "      <td>7.06</td>\n",
       "      <td>4.70</td>\n",
       "      <td>2.26</td>\n",
       "      <td>28.62</td>\n",
       "    </tr>\n",
       "    <tr>\n",
       "      <th>10</th>\n",
       "      <td>Duck Hunt</td>\n",
       "      <td>NES</td>\n",
       "      <td>1984.0</td>\n",
       "      <td>Shooter</td>\n",
       "      <td>Nintendo</td>\n",
       "      <td>26.93</td>\n",
       "      <td>0.63</td>\n",
       "      <td>0.28</td>\n",
       "      <td>0.47</td>\n",
       "      <td>28.31</td>\n",
       "    </tr>\n",
       "  </tbody>\n",
       "</table>\n",
       "</div>"
      ],
      "text/plain": [
       "                           Name Platform    Year         Genre Publisher  \\\n",
       "Rank                                                                       \n",
       "1                    Wii Sports      Wii  2006.0        Sports  Nintendo   \n",
       "2             Super Mario Bros.      NES  1985.0      Platform  Nintendo   \n",
       "3                Mario Kart Wii      Wii  2008.0        Racing  Nintendo   \n",
       "4             Wii Sports Resort      Wii  2009.0        Sports  Nintendo   \n",
       "5      Pokemon Red/Pokemon Blue       GB  1996.0  Role-Playing  Nintendo   \n",
       "6                        Tetris       GB  1989.0        Puzzle  Nintendo   \n",
       "7         New Super Mario Bros.       DS  2006.0      Platform  Nintendo   \n",
       "8                      Wii Play      Wii  2006.0          Misc  Nintendo   \n",
       "9     New Super Mario Bros. Wii      Wii  2009.0      Platform  Nintendo   \n",
       "10                    Duck Hunt      NES  1984.0       Shooter  Nintendo   \n",
       "\n",
       "      NA_Sales  EU_Sales  JP_Sales  Other_Sales  Global_Sales  \n",
       "Rank                                                           \n",
       "1        41.49     29.02      3.77         8.46         82.74  \n",
       "2        29.08      3.58      6.81         0.77         40.24  \n",
       "3        15.85     12.88      3.79         3.31         35.82  \n",
       "4        15.75     11.01      3.28         2.96         33.00  \n",
       "5        11.27      8.89     10.22         1.00         31.37  \n",
       "6        23.20      2.26      4.22         0.58         30.26  \n",
       "7        11.38      9.23      6.50         2.90         30.01  \n",
       "8        14.03      9.20      2.93         2.85         29.02  \n",
       "9        14.59      7.06      4.70         2.26         28.62  \n",
       "10       26.93      0.63      0.28         0.47         28.31  "
      ]
     },
     "execution_count": 4,
     "metadata": {},
     "output_type": "execute_result"
    }
   ],
   "source": [
    "data.head(10)"
   ]
  },
  {
   "cell_type": "markdown",
   "id": "364ac1ff",
   "metadata": {},
   "source": [
    "The 10 columns are: Name, Platform, Year, Genre, Publisher, NA_Sales, JP_Sales, Other_Sales, Global_Sales"
   ]
  },
  {
   "cell_type": "markdown",
   "id": "98fa2350",
   "metadata": {},
   "source": [
    "## Data cleaning:"
   ]
  },
  {
   "cell_type": "markdown",
   "id": "024aebfb",
   "metadata": {},
   "source": [
    "We will start be removing the Name as it does not provide any meaningful data, We will also remove regional sales as we can see the global sales is the sum of the regional sales"
   ]
  },
  {
   "cell_type": "code",
   "execution_count": 5,
   "id": "d2174c0d",
   "metadata": {},
   "outputs": [],
   "source": [
    "columns_to_drop = ['Name', 'NA_Sales', 'EU_Sales', 'JP_Sales', 'Other_Sales']\n",
    "\n",
    "data.drop(columns_to_drop, axis=1, inplace=True)"
   ]
  },
  {
   "cell_type": "code",
   "execution_count": 6,
   "id": "1ad4968c",
   "metadata": {},
   "outputs": [
    {
     "data": {
      "text/html": [
       "<div>\n",
       "<style scoped>\n",
       "    .dataframe tbody tr th:only-of-type {\n",
       "        vertical-align: middle;\n",
       "    }\n",
       "\n",
       "    .dataframe tbody tr th {\n",
       "        vertical-align: top;\n",
       "    }\n",
       "\n",
       "    .dataframe thead th {\n",
       "        text-align: right;\n",
       "    }\n",
       "</style>\n",
       "<table border=\"1\" class=\"dataframe\">\n",
       "  <thead>\n",
       "    <tr style=\"text-align: right;\">\n",
       "      <th></th>\n",
       "      <th>Platform</th>\n",
       "      <th>Year</th>\n",
       "      <th>Genre</th>\n",
       "      <th>Publisher</th>\n",
       "      <th>Global_Sales</th>\n",
       "    </tr>\n",
       "    <tr>\n",
       "      <th>Rank</th>\n",
       "      <th></th>\n",
       "      <th></th>\n",
       "      <th></th>\n",
       "      <th></th>\n",
       "      <th></th>\n",
       "    </tr>\n",
       "  </thead>\n",
       "  <tbody>\n",
       "    <tr>\n",
       "      <th>1</th>\n",
       "      <td>Wii</td>\n",
       "      <td>2006.0</td>\n",
       "      <td>Sports</td>\n",
       "      <td>Nintendo</td>\n",
       "      <td>82.74</td>\n",
       "    </tr>\n",
       "    <tr>\n",
       "      <th>2</th>\n",
       "      <td>NES</td>\n",
       "      <td>1985.0</td>\n",
       "      <td>Platform</td>\n",
       "      <td>Nintendo</td>\n",
       "      <td>40.24</td>\n",
       "    </tr>\n",
       "    <tr>\n",
       "      <th>3</th>\n",
       "      <td>Wii</td>\n",
       "      <td>2008.0</td>\n",
       "      <td>Racing</td>\n",
       "      <td>Nintendo</td>\n",
       "      <td>35.82</td>\n",
       "    </tr>\n",
       "    <tr>\n",
       "      <th>4</th>\n",
       "      <td>Wii</td>\n",
       "      <td>2009.0</td>\n",
       "      <td>Sports</td>\n",
       "      <td>Nintendo</td>\n",
       "      <td>33.00</td>\n",
       "    </tr>\n",
       "    <tr>\n",
       "      <th>5</th>\n",
       "      <td>GB</td>\n",
       "      <td>1996.0</td>\n",
       "      <td>Role-Playing</td>\n",
       "      <td>Nintendo</td>\n",
       "      <td>31.37</td>\n",
       "    </tr>\n",
       "    <tr>\n",
       "      <th>6</th>\n",
       "      <td>GB</td>\n",
       "      <td>1989.0</td>\n",
       "      <td>Puzzle</td>\n",
       "      <td>Nintendo</td>\n",
       "      <td>30.26</td>\n",
       "    </tr>\n",
       "    <tr>\n",
       "      <th>7</th>\n",
       "      <td>DS</td>\n",
       "      <td>2006.0</td>\n",
       "      <td>Platform</td>\n",
       "      <td>Nintendo</td>\n",
       "      <td>30.01</td>\n",
       "    </tr>\n",
       "    <tr>\n",
       "      <th>8</th>\n",
       "      <td>Wii</td>\n",
       "      <td>2006.0</td>\n",
       "      <td>Misc</td>\n",
       "      <td>Nintendo</td>\n",
       "      <td>29.02</td>\n",
       "    </tr>\n",
       "    <tr>\n",
       "      <th>9</th>\n",
       "      <td>Wii</td>\n",
       "      <td>2009.0</td>\n",
       "      <td>Platform</td>\n",
       "      <td>Nintendo</td>\n",
       "      <td>28.62</td>\n",
       "    </tr>\n",
       "    <tr>\n",
       "      <th>10</th>\n",
       "      <td>NES</td>\n",
       "      <td>1984.0</td>\n",
       "      <td>Shooter</td>\n",
       "      <td>Nintendo</td>\n",
       "      <td>28.31</td>\n",
       "    </tr>\n",
       "  </tbody>\n",
       "</table>\n",
       "</div>"
      ],
      "text/plain": [
       "     Platform    Year         Genre Publisher  Global_Sales\n",
       "Rank                                                       \n",
       "1         Wii  2006.0        Sports  Nintendo         82.74\n",
       "2         NES  1985.0      Platform  Nintendo         40.24\n",
       "3         Wii  2008.0        Racing  Nintendo         35.82\n",
       "4         Wii  2009.0        Sports  Nintendo         33.00\n",
       "5          GB  1996.0  Role-Playing  Nintendo         31.37\n",
       "6          GB  1989.0        Puzzle  Nintendo         30.26\n",
       "7          DS  2006.0      Platform  Nintendo         30.01\n",
       "8         Wii  2006.0          Misc  Nintendo         29.02\n",
       "9         Wii  2009.0      Platform  Nintendo         28.62\n",
       "10        NES  1984.0       Shooter  Nintendo         28.31"
      ]
     },
     "execution_count": 6,
     "metadata": {},
     "output_type": "execute_result"
    }
   ],
   "source": [
    "data.head(10)"
   ]
  },
  {
   "cell_type": "markdown",
   "id": "b94ada5c",
   "metadata": {},
   "source": [
    "We will then check for null values"
   ]
  },
  {
   "cell_type": "code",
   "execution_count": 7,
   "id": "9ee01dfb",
   "metadata": {},
   "outputs": [
    {
     "data": {
      "text/plain": [
       "Platform          0\n",
       "Year            271\n",
       "Genre             0\n",
       "Publisher        58\n",
       "Global_Sales      0\n",
       "dtype: int64"
      ]
     },
     "execution_count": 7,
     "metadata": {},
     "output_type": "execute_result"
    }
   ],
   "source": [
    "data.isnull().sum()"
   ]
  },
  {
   "cell_type": "markdown",
   "id": "2e60c09b",
   "metadata": {},
   "source": [
    "We have null values for the Year and the Publisher"
   ]
  },
  {
   "cell_type": "markdown",
   "id": "841d9489",
   "metadata": {},
   "source": [
    "We will fill the missing Year values with the most common year from the Year column"
   ]
  },
  {
   "cell_type": "code",
   "execution_count": 8,
   "id": "9d03de65",
   "metadata": {},
   "outputs": [],
   "source": [
    "data['Year']=data['Year'].fillna(data['Year'].mode()[0])"
   ]
  },
  {
   "cell_type": "markdown",
   "id": "818a22a6",
   "metadata": {},
   "source": [
    "We will convert the Year from Float to Integer value"
   ]
  },
  {
   "cell_type": "code",
   "execution_count": 9,
   "id": "0569e211",
   "metadata": {},
   "outputs": [],
   "source": [
    "data['Year'] = data['Year'].astype('int64')"
   ]
  },
  {
   "cell_type": "code",
   "execution_count": 10,
   "id": "55053ed4",
   "metadata": {},
   "outputs": [
    {
     "name": "stdout",
     "output_type": "stream",
     "text": [
      "Platform         0\n",
      "Year             0\n",
      "Genre            0\n",
      "Publisher       58\n",
      "Global_Sales     0\n",
      "dtype: int64\n"
     ]
    }
   ],
   "source": [
    "print(data.isnull().sum())"
   ]
  },
  {
   "cell_type": "markdown",
   "id": "c97db981",
   "metadata": {},
   "source": [
    "We will drop the rows that contains null values for the Publisher"
   ]
  },
  {
   "cell_type": "code",
   "execution_count": 11,
   "id": "301f6790",
   "metadata": {},
   "outputs": [],
   "source": [
    "data = data.dropna()"
   ]
  },
  {
   "cell_type": "code",
   "execution_count": 12,
   "id": "595bd8ee",
   "metadata": {},
   "outputs": [
    {
     "data": {
      "text/plain": [
       "Platform        0\n",
       "Year            0\n",
       "Genre           0\n",
       "Publisher       0\n",
       "Global_Sales    0\n",
       "dtype: int64"
      ]
     },
     "execution_count": 12,
     "metadata": {},
     "output_type": "execute_result"
    }
   ],
   "source": [
    "data.isnull().sum()"
   ]
  },
  {
   "cell_type": "markdown",
   "id": "81f1b537",
   "metadata": {},
   "source": [
    "## Data analysis and visualization"
   ]
  },
  {
   "cell_type": "code",
   "execution_count": 13,
   "id": "59fac8d0",
   "metadata": {},
   "outputs": [
    {
     "data": {
      "text/html": [
       "<div>\n",
       "<style scoped>\n",
       "    .dataframe tbody tr th:only-of-type {\n",
       "        vertical-align: middle;\n",
       "    }\n",
       "\n",
       "    .dataframe tbody tr th {\n",
       "        vertical-align: top;\n",
       "    }\n",
       "\n",
       "    .dataframe thead th {\n",
       "        text-align: right;\n",
       "    }\n",
       "</style>\n",
       "<table border=\"1\" class=\"dataframe\">\n",
       "  <thead>\n",
       "    <tr style=\"text-align: right;\">\n",
       "      <th></th>\n",
       "      <th>Platform</th>\n",
       "      <th>Year</th>\n",
       "      <th>Genre</th>\n",
       "      <th>Publisher</th>\n",
       "      <th>Global_Sales</th>\n",
       "    </tr>\n",
       "    <tr>\n",
       "      <th>Rank</th>\n",
       "      <th></th>\n",
       "      <th></th>\n",
       "      <th></th>\n",
       "      <th></th>\n",
       "      <th></th>\n",
       "    </tr>\n",
       "  </thead>\n",
       "  <tbody>\n",
       "    <tr>\n",
       "      <th>1</th>\n",
       "      <td>Wii</td>\n",
       "      <td>2006</td>\n",
       "      <td>Sports</td>\n",
       "      <td>Nintendo</td>\n",
       "      <td>82.74</td>\n",
       "    </tr>\n",
       "    <tr>\n",
       "      <th>2</th>\n",
       "      <td>NES</td>\n",
       "      <td>1985</td>\n",
       "      <td>Platform</td>\n",
       "      <td>Nintendo</td>\n",
       "      <td>40.24</td>\n",
       "    </tr>\n",
       "    <tr>\n",
       "      <th>3</th>\n",
       "      <td>Wii</td>\n",
       "      <td>2008</td>\n",
       "      <td>Racing</td>\n",
       "      <td>Nintendo</td>\n",
       "      <td>35.82</td>\n",
       "    </tr>\n",
       "    <tr>\n",
       "      <th>4</th>\n",
       "      <td>Wii</td>\n",
       "      <td>2009</td>\n",
       "      <td>Sports</td>\n",
       "      <td>Nintendo</td>\n",
       "      <td>33.00</td>\n",
       "    </tr>\n",
       "    <tr>\n",
       "      <th>5</th>\n",
       "      <td>GB</td>\n",
       "      <td>1996</td>\n",
       "      <td>Role-Playing</td>\n",
       "      <td>Nintendo</td>\n",
       "      <td>31.37</td>\n",
       "    </tr>\n",
       "    <tr>\n",
       "      <th>...</th>\n",
       "      <td>...</td>\n",
       "      <td>...</td>\n",
       "      <td>...</td>\n",
       "      <td>...</td>\n",
       "      <td>...</td>\n",
       "    </tr>\n",
       "    <tr>\n",
       "      <th>16596</th>\n",
       "      <td>GBA</td>\n",
       "      <td>2002</td>\n",
       "      <td>Platform</td>\n",
       "      <td>Kemco</td>\n",
       "      <td>0.01</td>\n",
       "    </tr>\n",
       "    <tr>\n",
       "      <th>16597</th>\n",
       "      <td>GC</td>\n",
       "      <td>2003</td>\n",
       "      <td>Shooter</td>\n",
       "      <td>Infogrames</td>\n",
       "      <td>0.01</td>\n",
       "    </tr>\n",
       "    <tr>\n",
       "      <th>16598</th>\n",
       "      <td>PS2</td>\n",
       "      <td>2008</td>\n",
       "      <td>Racing</td>\n",
       "      <td>Activision</td>\n",
       "      <td>0.01</td>\n",
       "    </tr>\n",
       "    <tr>\n",
       "      <th>16599</th>\n",
       "      <td>DS</td>\n",
       "      <td>2010</td>\n",
       "      <td>Puzzle</td>\n",
       "      <td>7G//AMES</td>\n",
       "      <td>0.01</td>\n",
       "    </tr>\n",
       "    <tr>\n",
       "      <th>16600</th>\n",
       "      <td>GBA</td>\n",
       "      <td>2003</td>\n",
       "      <td>Platform</td>\n",
       "      <td>Wanadoo</td>\n",
       "      <td>0.01</td>\n",
       "    </tr>\n",
       "  </tbody>\n",
       "</table>\n",
       "<p>16540 rows × 5 columns</p>\n",
       "</div>"
      ],
      "text/plain": [
       "      Platform  Year         Genre   Publisher  Global_Sales\n",
       "Rank                                                        \n",
       "1          Wii  2006        Sports    Nintendo         82.74\n",
       "2          NES  1985      Platform    Nintendo         40.24\n",
       "3          Wii  2008        Racing    Nintendo         35.82\n",
       "4          Wii  2009        Sports    Nintendo         33.00\n",
       "5           GB  1996  Role-Playing    Nintendo         31.37\n",
       "...        ...   ...           ...         ...           ...\n",
       "16596      GBA  2002      Platform       Kemco          0.01\n",
       "16597       GC  2003       Shooter  Infogrames          0.01\n",
       "16598      PS2  2008        Racing  Activision          0.01\n",
       "16599       DS  2010        Puzzle    7G//AMES          0.01\n",
       "16600      GBA  2003      Platform     Wanadoo          0.01\n",
       "\n",
       "[16540 rows x 5 columns]"
      ]
     },
     "execution_count": 13,
     "metadata": {},
     "output_type": "execute_result"
    }
   ],
   "source": [
    "data"
   ]
  },
  {
   "cell_type": "markdown",
   "id": "248e3965",
   "metadata": {},
   "source": [
    "Lets explore the Platform data"
   ]
  },
  {
   "cell_type": "code",
   "execution_count": 14,
   "id": "5227b2dd",
   "metadata": {},
   "outputs": [
    {
     "data": {
      "text/plain": [
       "array(['Wii', 'NES', 'GB', 'DS', 'X360', 'PS3', 'PS2', 'SNES', 'GBA',\n",
       "       '3DS', 'PS4', 'N64', 'PS', 'XB', 'PC', '2600', 'PSP', 'XOne', 'GC',\n",
       "       'WiiU', 'GEN', 'DC', 'PSV', 'SAT', 'SCD', 'WS', 'NG', 'TG16',\n",
       "       '3DO', 'GG', 'PCFX'], dtype=object)"
      ]
     },
     "execution_count": 14,
     "metadata": {},
     "output_type": "execute_result"
    }
   ],
   "source": [
    "data['Platform'].unique()"
   ]
  },
  {
   "cell_type": "code",
   "execution_count": 15,
   "id": "556eb6e4",
   "metadata": {},
   "outputs": [
    {
     "data": {
      "text/plain": [
       "31"
      ]
     },
     "execution_count": 15,
     "metadata": {},
     "output_type": "execute_result"
    }
   ],
   "source": [
    "data['Platform'].unique().size"
   ]
  },
  {
   "cell_type": "markdown",
   "id": "e0e02096",
   "metadata": {},
   "source": [
    "We have 31 unique values for the Platform"
   ]
  },
  {
   "cell_type": "code",
   "execution_count": 16,
   "id": "86766c1d",
   "metadata": {},
   "outputs": [
    {
     "name": "stdout",
     "output_type": "stream",
     "text": [
      "PS2     2159\n",
      "DS      2156\n",
      "PS3     1326\n",
      "Wii     1324\n",
      "X360    1261\n",
      "PSP     1211\n",
      "PS      1193\n",
      "PC       954\n",
      "XB       824\n",
      "GBA      796\n",
      "GC       556\n",
      "3DS      507\n",
      "PSV      411\n",
      "PS4      336\n",
      "N64      319\n",
      "SNES     239\n",
      "XOne     213\n",
      "SAT      173\n",
      "WiiU     143\n",
      "2600     133\n",
      "NES       98\n",
      "GB        98\n",
      "DC        52\n",
      "GEN       27\n",
      "NG        12\n",
      "SCD        6\n",
      "WS         6\n",
      "3DO        3\n",
      "TG16       2\n",
      "GG         1\n",
      "PCFX       1\n",
      "Name: Platform, dtype: int64\n"
     ]
    }
   ],
   "source": [
    "print(pd.value_counts(data[\"Platform\"]))\n"
   ]
  },
  {
   "cell_type": "code",
   "execution_count": 17,
   "id": "d8b68a7f",
   "metadata": {},
   "outputs": [
    {
     "data": {
      "image/png": "[encoded data removed]",
      "text/plain": [
       "<Figure size 1440x864 with 1 Axes>"
      ]
     },
     "metadata": {
      "needs_background": "light"
     },
     "output_type": "display_data"
    }
   ],
   "source": [
    "import seaborn as sns\n",
    "pyplot.figure(figsize = (20,12))\n",
    "pyplot.title('Games count by Platform')\n",
    "sns.countplot(y='Platform', data=data, order=data.Platform.value_counts().iloc[:19].index)\n",
    "pyplot.show()"
   ]
  },
  {
   "cell_type": "markdown",
   "id": "59d8601f",
   "metadata": {},
   "source": [
    "We can see that PS2 and DS are the most common platforms in the dataset "
   ]
  },
  {
   "cell_type": "markdown",
   "id": "7fb4441d",
   "metadata": {},
   "source": [
    "Lets explore the Genre data"
   ]
  },
  {
   "cell_type": "code",
   "execution_count": 18,
   "id": "d60493b4",
   "metadata": {},
   "outputs": [
    {
     "data": {
      "text/plain": [
       "count      16540\n",
       "unique        12\n",
       "top       Action\n",
       "freq        3309\n",
       "Name: Genre, dtype: object"
      ]
     },
     "execution_count": 18,
     "metadata": {},
     "output_type": "execute_result"
    }
   ],
   "source": [
    "data['Genre'].describe()"
   ]
  },
  {
   "cell_type": "markdown",
   "id": "d449cf09",
   "metadata": {},
   "source": [
    "We have 12 unique Genre in the dataset"
   ]
  },
  {
   "cell_type": "code",
   "execution_count": 19,
   "id": "447bd45a",
   "metadata": {},
   "outputs": [
    {
     "data": {
      "text/plain": [
       "Action          3309\n",
       "Sports          2343\n",
       "Misc            1712\n",
       "Role-Playing    1486\n",
       "Shooter         1308\n",
       "Adventure       1282\n",
       "Racing          1248\n",
       "Platform         884\n",
       "Simulation       863\n",
       "Fighting         846\n",
       "Strategy         678\n",
       "Puzzle           581\n",
       "Name: Genre, dtype: int64"
      ]
     },
     "execution_count": 19,
     "metadata": {},
     "output_type": "execute_result"
    }
   ],
   "source": [
    "data.Genre.value_counts()"
   ]
  },
  {
   "cell_type": "code",
   "execution_count": 20,
   "id": "e1fabdd2",
   "metadata": {},
   "outputs": [
    {
     "data": {
      "image/png": "[encoded data removed]",
      "text/plain": [
       "<Figure size 432x288 with 1 Axes>"
      ]
     },
     "metadata": {},
     "output_type": "display_data"
    }
   ],
   "source": [
    "pyplot.pie(data.Genre.value_counts(), labels=data.Genre.value_counts().index, autopct='%1.0f%%', pctdistance=1.1, labeldistance=1.2)\n",
    "pyplot.title('Video Game Genre')\n",
    "pyplot.ylabel(' ')\n",
    "pyplot.show()"
   ]
  },
  {
   "cell_type": "markdown",
   "id": "b9906d82",
   "metadata": {},
   "source": [
    "We can see that Action and Sport are the most common Genre in the dataset"
   ]
  },
  {
   "cell_type": "markdown",
   "id": "76eb3c19",
   "metadata": {},
   "source": [
    "Lets explore the Publisher data"
   ]
  },
  {
   "cell_type": "code",
   "execution_count": 21,
   "id": "51871fd1",
   "metadata": {},
   "outputs": [
    {
     "data": {
      "text/plain": [
       "Electronic Arts                 1351\n",
       "Activision                       975\n",
       "Namco Bandai Games               932\n",
       "Ubisoft                          921\n",
       "Konami Digital Entertainment     832\n",
       "                                ... \n",
       "Warp                               1\n",
       "New                                1\n",
       "Elite                              1\n",
       "Evolution Games                    1\n",
       "UIG Entertainment                  1\n",
       "Name: Publisher, Length: 578, dtype: int64"
      ]
     },
     "execution_count": 21,
     "metadata": {},
     "output_type": "execute_result"
    }
   ],
   "source": [
    "counts = data['Publisher'].value_counts()\n",
    "counts"
   ]
  },
  {
   "cell_type": "code",
   "execution_count": 22,
   "id": "e3eea5d8",
   "metadata": {},
   "outputs": [
    {
     "data": {
      "text/plain": [
       "count               16540\n",
       "unique                578\n",
       "top       Electronic Arts\n",
       "freq                 1351\n",
       "Name: Publisher, dtype: object"
      ]
     },
     "execution_count": 22,
     "metadata": {},
     "output_type": "execute_result"
    }
   ],
   "source": [
    "data['Publisher'].describe()\n"
   ]
  },
  {
   "cell_type": "markdown",
   "id": "32b2a71b",
   "metadata": {},
   "source": [
    "We have 578 unique Publisher categories in the dataset, and Electronic Arts is the most common publisher, The figure below shows the top 20 publishers in the dataset"
   ]
  },
  {
   "cell_type": "code",
   "execution_count": 23,
   "id": "e297abe5",
   "metadata": {},
   "outputs": [
    {
     "data": {
      "image/png": "[encoded data removed]",
      "text/plain": [
       "<Figure size 1440x864 with 1 Axes>"
      ]
     },
     "metadata": {
      "needs_background": "light"
     },
     "output_type": "display_data"
    }
   ],
   "source": [
    "pyplot.figure(figsize = (20,12))\n",
    "pyplot.title('Games count by Publisher')\n",
    "sns.countplot(x='Publisher', data=data, order=data.Publisher.value_counts().iloc[:19].index)\n",
    "pyplot.xticks(rotation= 90)\n",
    "pyplot.show()"
   ]
  },
  {
   "cell_type": "markdown",
   "id": "3140feed",
   "metadata": {},
   "source": [
    "Lets explore the Year data"
   ]
  },
  {
   "cell_type": "code",
   "execution_count": 24,
   "id": "5ab2e87f",
   "metadata": {},
   "outputs": [
    {
     "data": {
      "text/plain": [
       "2009    1680\n",
       "2008    1428\n",
       "2010    1257\n",
       "2007    1201\n",
       "2011    1136\n",
       "2006    1008\n",
       "2005     936\n",
       "2002     829\n",
       "2003     775\n",
       "2004     744\n",
       "2012     655\n",
       "2015     614\n",
       "2014     580\n",
       "2013     546\n",
       "2001     482\n",
       "1998     379\n",
       "2000     349\n",
       "2016     342\n",
       "1999     338\n",
       "1997     289\n",
       "1996     263\n",
       "1995     219\n",
       "1994     121\n",
       "1993      60\n",
       "1981      46\n",
       "1992      43\n",
       "1991      41\n",
       "1982      36\n",
       "1986      21\n",
       "1989      17\n",
       "1983      17\n",
       "1990      16\n",
       "1987      16\n",
       "1988      15\n",
       "1985      14\n",
       "1984      14\n",
       "1980       9\n",
       "2017       3\n",
       "2020       1\n",
       "Name: Year, dtype: int64"
      ]
     },
     "execution_count": 24,
     "metadata": {},
     "output_type": "execute_result"
    }
   ],
   "source": [
    "data['Year'].value_counts()"
   ]
  },
  {
   "cell_type": "code",
   "execution_count": 25,
   "id": "eac7bd9e",
   "metadata": {},
   "outputs": [
    {
     "name": "stdout",
     "output_type": "stream",
     "text": [
      "1980\n",
      "2020\n"
     ]
    }
   ],
   "source": [
    "years = data.Year.unique()\n",
    "start_year = years.min()\n",
    "end_year = years.max()\n",
    "print(start_year)\n",
    "print(end_year)"
   ]
  },
  {
   "cell_type": "markdown",
   "id": "503eb0d7",
   "metadata": {},
   "source": [
    "We can see that we have data from 1980 to 2020. figure below shows the top common 15 years in the dataset, we can see that 2009 and 2008 are the most common years. "
   ]
  },
  {
   "cell_type": "code",
   "execution_count": 26,
   "id": "27f313a8",
   "metadata": {},
   "outputs": [
    {
     "data": {
      "image/png": "[encoded data removed]",
      "text/plain": [
       "<Figure size 1440x864 with 1 Axes>"
      ]
     },
     "metadata": {
      "needs_background": "light"
     },
     "output_type": "display_data"
    }
   ],
   "source": [
    "pyplot.figure(figsize = (20,12))\n",
    "pyplot.title('Games count by Year')\n",
    "sns.countplot(x='Year', data=data, order=data.Year.value_counts().iloc[:15].index)\n",
    "pyplot.xticks(rotation= 90)\n",
    "pyplot.show()"
   ]
  },
  {
   "cell_type": "markdown",
   "id": "38bffb4c",
   "metadata": {},
   "source": [
    "## Data Preparation"
   ]
  },
  {
   "cell_type": "markdown",
   "id": "4c67adfa",
   "metadata": {},
   "source": [
    "We will first clean the Publisher data"
   ]
  },
  {
   "cell_type": "code",
   "execution_count": 27,
   "id": "9db00416",
   "metadata": {},
   "outputs": [
    {
     "data": {
      "text/plain": [
       "Electronic Arts                 1351\n",
       "Activision                       975\n",
       "Namco Bandai Games               932\n",
       "Ubisoft                          921\n",
       "Konami Digital Entertainment     832\n",
       "                                ... \n",
       "Warp                               1\n",
       "New                                1\n",
       "Elite                              1\n",
       "Evolution Games                    1\n",
       "UIG Entertainment                  1\n",
       "Name: Publisher, Length: 578, dtype: int64"
      ]
     },
     "execution_count": 27,
     "metadata": {},
     "output_type": "execute_result"
    }
   ],
   "source": [
    "counts = data['Publisher'].value_counts()\n",
    "counts"
   ]
  },
  {
   "cell_type": "code",
   "execution_count": 28,
   "id": "954ed5d7",
   "metadata": {},
   "outputs": [
    {
     "data": {
      "text/plain": [
       "count               16540\n",
       "unique                578\n",
       "top       Electronic Arts\n",
       "freq                 1351\n",
       "Name: Publisher, dtype: object"
      ]
     },
     "execution_count": 28,
     "metadata": {},
     "output_type": "execute_result"
    }
   ],
   "source": [
    "data['Publisher'].describe()"
   ]
  },
  {
   "cell_type": "markdown",
   "id": "acb2dce7",
   "metadata": {},
   "source": [
    "We have 578 different publishers, we can see many of these publishers have rare occurrences and are not repeated enough. 578 categories will be very large and we will need to handle rare values"
   ]
  },
  {
   "cell_type": "code",
   "execution_count": 29,
   "id": "05e6becc",
   "metadata": {},
   "outputs": [
    {
     "data": {
      "text/plain": [
       "False    384\n",
       "True     194\n",
       "Name: Publisher, dtype: int64"
      ]
     },
     "execution_count": 29,
     "metadata": {},
     "output_type": "execute_result"
    }
   ],
   "source": [
    "(data['Publisher'].value_counts() == 1).value_counts()"
   ]
  },
  {
   "cell_type": "code",
   "execution_count": 30,
   "id": "fa690330",
   "metadata": {},
   "outputs": [
    {
     "data": {
      "text/plain": [
       "True     532\n",
       "False     46\n",
       "Name: Publisher, dtype: int64"
      ]
     },
     "execution_count": 30,
     "metadata": {},
     "output_type": "execute_result"
    }
   ],
   "source": [
    "(data['Publisher'].value_counts() < 50).value_counts()"
   ]
  },
  {
   "cell_type": "markdown",
   "id": "8028d6cc",
   "metadata": {},
   "source": [
    "We can see that 194 publishers are repeated only once. and 532 publishers are repeated less than 50 times. We will mark these small and rare publishers as Other"
   ]
  },
  {
   "cell_type": "code",
   "execution_count": 31,
   "id": "111e20ca",
   "metadata": {},
   "outputs": [],
   "source": [
    "clean_publishers = data['Publisher'].apply(lambda x: 'Other' if counts[x] < 50 else x)"
   ]
  },
  {
   "cell_type": "code",
   "execution_count": 32,
   "id": "5d9d2905",
   "metadata": {},
   "outputs": [
    {
     "data": {
      "text/plain": [
       "3342"
      ]
     },
     "execution_count": 32,
     "metadata": {},
     "output_type": "execute_result"
    }
   ],
   "source": [
    "clean_publishers.value_counts()['Other']"
   ]
  },
  {
   "cell_type": "markdown",
   "id": "c278708e",
   "metadata": {},
   "source": [
    "3342 rows in the data contains 532 rare publishers, each with less than 50 occurrence. We will use the new clean list of publishers instead that replaced the rare publishers with 'Other'"
   ]
  },
  {
   "cell_type": "code",
   "execution_count": 33,
   "id": "28508b35",
   "metadata": {},
   "outputs": [],
   "source": [
    "data['Publisher'] = clean_publishers"
   ]
  },
  {
   "cell_type": "code",
   "execution_count": 34,
   "id": "e74d8038",
   "metadata": {},
   "outputs": [
    {
     "data": {
      "text/plain": [
       "count     16540\n",
       "unique       47\n",
       "top       Other\n",
       "freq       3342\n",
       "Name: Publisher, dtype: object"
      ]
     },
     "execution_count": 34,
     "metadata": {},
     "output_type": "execute_result"
    }
   ],
   "source": [
    "data['Publisher'].describe()\n"
   ]
  },
  {
   "cell_type": "markdown",
   "id": "442f37d5",
   "metadata": {},
   "source": [
    "Now we have 47 publishers values"
   ]
  },
  {
   "cell_type": "markdown",
   "id": "b2f89daa",
   "metadata": {},
   "source": [
    "We will now remove the outliers data from the Global Sales column"
   ]
  },
  {
   "cell_type": "code",
   "execution_count": 35,
   "id": "f713df98",
   "metadata": {},
   "outputs": [
    {
     "data": {
      "text/plain": [
       "3.73"
      ]
     },
     "execution_count": 35,
     "metadata": {},
     "output_type": "execute_result"
    }
   ],
   "source": [
    "max_threshold = data['Global_Sales'].quantile(0.98)\n",
    "max_threshold\n"
   ]
  },
  {
   "cell_type": "code",
   "execution_count": 36,
   "id": "d645943d",
   "metadata": {},
   "outputs": [
    {
     "data": {
      "text/plain": [
       "False    16210\n",
       "True       330\n",
       "Name: Global_Sales, dtype: int64"
      ]
     },
     "execution_count": 36,
     "metadata": {},
     "output_type": "execute_result"
    }
   ],
   "source": [
    "(data['Global_Sales']>max_threshold).value_counts()"
   ]
  },
  {
   "cell_type": "markdown",
   "id": "7c416b33",
   "metadata": {},
   "source": [
    "We will remove the 330 entries as they will affect the model accuracy"
   ]
  },
  {
   "cell_type": "code",
   "execution_count": 37,
   "id": "f378c3ef",
   "metadata": {},
   "outputs": [],
   "source": [
    "cleaned_data = data[(data.Global_Sales < max_threshold)]\n"
   ]
  },
  {
   "cell_type": "markdown",
   "id": "71b6b155",
   "metadata": {},
   "source": [
    "We will now transform the Year values into more meaningful represenation. The year data represents the relation of years passing and the sales, so we will represent the start year as 0 and the Year data will represent how many years passed from the start year "
   ]
  },
  {
   "cell_type": "code",
   "execution_count": 38,
   "id": "019bfc18",
   "metadata": {},
   "outputs": [
    {
     "name": "stderr",
     "output_type": "stream",
     "text": [
      "/tmp/ipykernel_3773697/3710542748.py:4: SettingWithCopyWarning: \n",
      "A value is trying to be set on a copy of a slice from a DataFrame.\n",
      "Try using .loc[row_indexer,col_indexer] = value instead\n",
      "\n",
      "See the caveats in the documentation: https://pandas.pydata.org/pandas-docs/stable/user_guide/indexing.html#returning-a-view-versus-a-copy\n",
      "  cleaned_data['Year'] = cleaned_data['Year'] - start_year\n"
     ]
    }
   ],
   "source": [
    "years = cleaned_data.Year.unique()\n",
    "start_year = years.min()\n",
    "\n",
    "cleaned_data['Year'] = cleaned_data['Year'] - start_year"
   ]
  },
  {
   "cell_type": "code",
   "execution_count": 39,
   "id": "622027cd",
   "metadata": {},
   "outputs": [
    {
     "data": {
      "text/html": [
       "<div>\n",
       "<style scoped>\n",
       "    .dataframe tbody tr th:only-of-type {\n",
       "        vertical-align: middle;\n",
       "    }\n",
       "\n",
       "    .dataframe tbody tr th {\n",
       "        vertical-align: top;\n",
       "    }\n",
       "\n",
       "    .dataframe thead th {\n",
       "        text-align: right;\n",
       "    }\n",
       "</style>\n",
       "<table border=\"1\" class=\"dataframe\">\n",
       "  <thead>\n",
       "    <tr style=\"text-align: right;\">\n",
       "      <th></th>\n",
       "      <th>Platform</th>\n",
       "      <th>Year</th>\n",
       "      <th>Genre</th>\n",
       "      <th>Publisher</th>\n",
       "      <th>Global_Sales</th>\n",
       "    </tr>\n",
       "    <tr>\n",
       "      <th>Rank</th>\n",
       "      <th></th>\n",
       "      <th></th>\n",
       "      <th></th>\n",
       "      <th></th>\n",
       "      <th></th>\n",
       "    </tr>\n",
       "  </thead>\n",
       "  <tbody>\n",
       "    <tr>\n",
       "      <th>333</th>\n",
       "      <td>PS</td>\n",
       "      <td>19</td>\n",
       "      <td>Action</td>\n",
       "      <td>Eidos Interactive</td>\n",
       "      <td>3.72</td>\n",
       "    </tr>\n",
       "    <tr>\n",
       "      <th>334</th>\n",
       "      <td>PS</td>\n",
       "      <td>20</td>\n",
       "      <td>Platform</td>\n",
       "      <td>Sony Computer Entertainment</td>\n",
       "      <td>3.71</td>\n",
       "    </tr>\n",
       "    <tr>\n",
       "      <th>335</th>\n",
       "      <td>PS2</td>\n",
       "      <td>24</td>\n",
       "      <td>Sports</td>\n",
       "      <td>Electronic Arts</td>\n",
       "      <td>3.70</td>\n",
       "    </tr>\n",
       "    <tr>\n",
       "      <th>336</th>\n",
       "      <td>GB</td>\n",
       "      <td>18</td>\n",
       "      <td>Strategy</td>\n",
       "      <td>Nintendo</td>\n",
       "      <td>3.70</td>\n",
       "    </tr>\n",
       "    <tr>\n",
       "      <th>337</th>\n",
       "      <td>PS3</td>\n",
       "      <td>33</td>\n",
       "      <td>Shooter</td>\n",
       "      <td>Electronic Arts</td>\n",
       "      <td>3.69</td>\n",
       "    </tr>\n",
       "  </tbody>\n",
       "</table>\n",
       "</div>"
      ],
      "text/plain": [
       "     Platform  Year     Genre                    Publisher  Global_Sales\n",
       "Rank                                                                    \n",
       "333        PS    19    Action            Eidos Interactive          3.72\n",
       "334        PS    20  Platform  Sony Computer Entertainment          3.71\n",
       "335       PS2    24    Sports              Electronic Arts          3.70\n",
       "336        GB    18  Strategy                     Nintendo          3.70\n",
       "337       PS3    33   Shooter              Electronic Arts          3.69"
      ]
     },
     "execution_count": 39,
     "metadata": {},
     "output_type": "execute_result"
    }
   ],
   "source": [
    "cleaned_data.head()"
   ]
  },
  {
   "cell_type": "markdown",
   "id": "ceb17d14",
   "metadata": {},
   "source": [
    "### Encoding"
   ]
  },
  {
   "cell_type": "markdown",
   "id": "e24e76b9",
   "metadata": {},
   "source": [
    "We will now encode the categorical data: Platform, Genre, Publisher"
   ]
  },
  {
   "cell_type": "markdown",
   "id": "1c6d024f",
   "metadata": {},
   "source": [
    "- One Hot Encoding"
   ]
  },
  {
   "cell_type": "markdown",
   "id": "140e43f2",
   "metadata": {},
   "source": [
    "We will use one hot encoding to encode these categorical values "
   ]
  },
  {
   "cell_type": "code",
   "execution_count": 40,
   "id": "2c29f21a",
   "metadata": {},
   "outputs": [],
   "source": [
    "onehot_columns = ['Platform', 'Genre', 'Publisher']"
   ]
  },
  {
   "cell_type": "code",
   "execution_count": 41,
   "id": "99826e17",
   "metadata": {},
   "outputs": [],
   "source": [
    "def onehot_encode(data, columns):\n",
    "    for column in columns:\n",
    "        dummies = pd.get_dummies(data[column])\n",
    "        data = pd.concat([data, dummies], axis=1)\n",
    "        data.drop(column, axis=1, inplace=True)\n",
    "    return data"
   ]
  },
  {
   "cell_type": "code",
   "execution_count": 42,
   "id": "8fcf0327",
   "metadata": {},
   "outputs": [],
   "source": [
    "onehot_encoded_data = onehot_encode(cleaned_data, onehot_columns)"
   ]
  },
  {
   "cell_type": "code",
   "execution_count": 43,
   "id": "83b5e383",
   "metadata": {},
   "outputs": [
    {
     "data": {
      "text/html": [
       "<div>\n",
       "<style scoped>\n",
       "    .dataframe tbody tr th:only-of-type {\n",
       "        vertical-align: middle;\n",
       "    }\n",
       "\n",
       "    .dataframe tbody tr th {\n",
       "        vertical-align: top;\n",
       "    }\n",
       "\n",
       "    .dataframe thead th {\n",
       "        text-align: right;\n",
       "    }\n",
       "</style>\n",
       "<table border=\"1\" class=\"dataframe\">\n",
       "  <thead>\n",
       "    <tr style=\"text-align: right;\">\n",
       "      <th></th>\n",
       "      <th>Year</th>\n",
       "      <th>Global_Sales</th>\n",
       "      <th>2600</th>\n",
       "      <th>3DO</th>\n",
       "      <th>3DS</th>\n",
       "      <th>DC</th>\n",
       "      <th>DS</th>\n",
       "      <th>GB</th>\n",
       "      <th>GBA</th>\n",
       "      <th>GC</th>\n",
       "      <th>...</th>\n",
       "      <th>SquareSoft</th>\n",
       "      <th>THQ</th>\n",
       "      <th>Take-Two Interactive</th>\n",
       "      <th>Tecmo Koei</th>\n",
       "      <th>Ubisoft</th>\n",
       "      <th>Unknown</th>\n",
       "      <th>Virgin Interactive</th>\n",
       "      <th>Vivendi Games</th>\n",
       "      <th>Warner Bros. Interactive Entertainment</th>\n",
       "      <th>Zoo Digital Publishing</th>\n",
       "    </tr>\n",
       "    <tr>\n",
       "      <th>Rank</th>\n",
       "      <th></th>\n",
       "      <th></th>\n",
       "      <th></th>\n",
       "      <th></th>\n",
       "      <th></th>\n",
       "      <th></th>\n",
       "      <th></th>\n",
       "      <th></th>\n",
       "      <th></th>\n",
       "      <th></th>\n",
       "      <th></th>\n",
       "      <th></th>\n",
       "      <th></th>\n",
       "      <th></th>\n",
       "      <th></th>\n",
       "      <th></th>\n",
       "      <th></th>\n",
       "      <th></th>\n",
       "      <th></th>\n",
       "      <th></th>\n",
       "      <th></th>\n",
       "    </tr>\n",
       "  </thead>\n",
       "  <tbody>\n",
       "    <tr>\n",
       "      <th>333</th>\n",
       "      <td>19</td>\n",
       "      <td>3.72</td>\n",
       "      <td>0</td>\n",
       "      <td>0</td>\n",
       "      <td>0</td>\n",
       "      <td>0</td>\n",
       "      <td>0</td>\n",
       "      <td>0</td>\n",
       "      <td>0</td>\n",
       "      <td>0</td>\n",
       "      <td>...</td>\n",
       "      <td>0</td>\n",
       "      <td>0</td>\n",
       "      <td>0</td>\n",
       "      <td>0</td>\n",
       "      <td>0</td>\n",
       "      <td>0</td>\n",
       "      <td>0</td>\n",
       "      <td>0</td>\n",
       "      <td>0</td>\n",
       "      <td>0</td>\n",
       "    </tr>\n",
       "    <tr>\n",
       "      <th>334</th>\n",
       "      <td>20</td>\n",
       "      <td>3.71</td>\n",
       "      <td>0</td>\n",
       "      <td>0</td>\n",
       "      <td>0</td>\n",
       "      <td>0</td>\n",
       "      <td>0</td>\n",
       "      <td>0</td>\n",
       "      <td>0</td>\n",
       "      <td>0</td>\n",
       "      <td>...</td>\n",
       "      <td>0</td>\n",
       "      <td>0</td>\n",
       "      <td>0</td>\n",
       "      <td>0</td>\n",
       "      <td>0</td>\n",
       "      <td>0</td>\n",
       "      <td>0</td>\n",
       "      <td>0</td>\n",
       "      <td>0</td>\n",
       "      <td>0</td>\n",
       "    </tr>\n",
       "    <tr>\n",
       "      <th>335</th>\n",
       "      <td>24</td>\n",
       "      <td>3.70</td>\n",
       "      <td>0</td>\n",
       "      <td>0</td>\n",
       "      <td>0</td>\n",
       "      <td>0</td>\n",
       "      <td>0</td>\n",
       "      <td>0</td>\n",
       "      <td>0</td>\n",
       "      <td>0</td>\n",
       "      <td>...</td>\n",
       "      <td>0</td>\n",
       "      <td>0</td>\n",
       "      <td>0</td>\n",
       "      <td>0</td>\n",
       "      <td>0</td>\n",
       "      <td>0</td>\n",
       "      <td>0</td>\n",
       "      <td>0</td>\n",
       "      <td>0</td>\n",
       "      <td>0</td>\n",
       "    </tr>\n",
       "    <tr>\n",
       "      <th>336</th>\n",
       "      <td>18</td>\n",
       "      <td>3.70</td>\n",
       "      <td>0</td>\n",
       "      <td>0</td>\n",
       "      <td>0</td>\n",
       "      <td>0</td>\n",
       "      <td>0</td>\n",
       "      <td>1</td>\n",
       "      <td>0</td>\n",
       "      <td>0</td>\n",
       "      <td>...</td>\n",
       "      <td>0</td>\n",
       "      <td>0</td>\n",
       "      <td>0</td>\n",
       "      <td>0</td>\n",
       "      <td>0</td>\n",
       "      <td>0</td>\n",
       "      <td>0</td>\n",
       "      <td>0</td>\n",
       "      <td>0</td>\n",
       "      <td>0</td>\n",
       "    </tr>\n",
       "    <tr>\n",
       "      <th>337</th>\n",
       "      <td>33</td>\n",
       "      <td>3.69</td>\n",
       "      <td>0</td>\n",
       "      <td>0</td>\n",
       "      <td>0</td>\n",
       "      <td>0</td>\n",
       "      <td>0</td>\n",
       "      <td>0</td>\n",
       "      <td>0</td>\n",
       "      <td>0</td>\n",
       "      <td>...</td>\n",
       "      <td>0</td>\n",
       "      <td>0</td>\n",
       "      <td>0</td>\n",
       "      <td>0</td>\n",
       "      <td>0</td>\n",
       "      <td>0</td>\n",
       "      <td>0</td>\n",
       "      <td>0</td>\n",
       "      <td>0</td>\n",
       "      <td>0</td>\n",
       "    </tr>\n",
       "  </tbody>\n",
       "</table>\n",
       "<p>5 rows × 92 columns</p>\n",
       "</div>"
      ],
      "text/plain": [
       "      Year  Global_Sales  2600  3DO  3DS  DC  DS  GB  GBA  GC  ...  \\\n",
       "Rank                                                           ...   \n",
       "333     19          3.72     0    0    0   0   0   0    0   0  ...   \n",
       "334     20          3.71     0    0    0   0   0   0    0   0  ...   \n",
       "335     24          3.70     0    0    0   0   0   0    0   0  ...   \n",
       "336     18          3.70     0    0    0   0   0   1    0   0  ...   \n",
       "337     33          3.69     0    0    0   0   0   0    0   0  ...   \n",
       "\n",
       "      SquareSoft  THQ  Take-Two Interactive  Tecmo Koei  Ubisoft  Unknown  \\\n",
       "Rank                                                                        \n",
       "333            0    0                     0           0        0        0   \n",
       "334            0    0                     0           0        0        0   \n",
       "335            0    0                     0           0        0        0   \n",
       "336            0    0                     0           0        0        0   \n",
       "337            0    0                     0           0        0        0   \n",
       "\n",
       "      Virgin Interactive  Vivendi Games  \\\n",
       "Rank                                      \n",
       "333                    0              0   \n",
       "334                    0              0   \n",
       "335                    0              0   \n",
       "336                    0              0   \n",
       "337                    0              0   \n",
       "\n",
       "      Warner Bros. Interactive Entertainment  Zoo Digital Publishing  \n",
       "Rank                                                                  \n",
       "333                                        0                       0  \n",
       "334                                        0                       0  \n",
       "335                                        0                       0  \n",
       "336                                        0                       0  \n",
       "337                                        0                       0  \n",
       "\n",
       "[5 rows x 92 columns]"
      ]
     },
     "execution_count": 43,
     "metadata": {},
     "output_type": "execute_result"
    }
   ],
   "source": [
    "onehot_encoded_data.head()"
   ]
  },
  {
   "cell_type": "markdown",
   "id": "b3c19cb5",
   "metadata": {},
   "source": [
    "We can see that the categorical values have been transformed into features, and now we have 92 features"
   ]
  },
  {
   "cell_type": "code",
   "execution_count": 44,
   "id": "013ce45b",
   "metadata": {},
   "outputs": [
    {
     "data": {
      "text/html": [
       "<div>\n",
       "<style scoped>\n",
       "    .dataframe tbody tr th:only-of-type {\n",
       "        vertical-align: middle;\n",
       "    }\n",
       "\n",
       "    .dataframe tbody tr th {\n",
       "        vertical-align: top;\n",
       "    }\n",
       "\n",
       "    .dataframe thead th {\n",
       "        text-align: right;\n",
       "    }\n",
       "</style>\n",
       "<table border=\"1\" class=\"dataframe\">\n",
       "  <thead>\n",
       "    <tr style=\"text-align: right;\">\n",
       "      <th></th>\n",
       "      <th>Year</th>\n",
       "      <th>Global_Sales</th>\n",
       "      <th>2600</th>\n",
       "      <th>3DO</th>\n",
       "      <th>3DS</th>\n",
       "      <th>DC</th>\n",
       "      <th>DS</th>\n",
       "      <th>GB</th>\n",
       "      <th>GBA</th>\n",
       "      <th>GC</th>\n",
       "      <th>...</th>\n",
       "      <th>SquareSoft</th>\n",
       "      <th>THQ</th>\n",
       "      <th>Take-Two Interactive</th>\n",
       "      <th>Tecmo Koei</th>\n",
       "      <th>Ubisoft</th>\n",
       "      <th>Unknown</th>\n",
       "      <th>Virgin Interactive</th>\n",
       "      <th>Vivendi Games</th>\n",
       "      <th>Warner Bros. Interactive Entertainment</th>\n",
       "      <th>Zoo Digital Publishing</th>\n",
       "    </tr>\n",
       "    <tr>\n",
       "      <th>Rank</th>\n",
       "      <th></th>\n",
       "      <th></th>\n",
       "      <th></th>\n",
       "      <th></th>\n",
       "      <th></th>\n",
       "      <th></th>\n",
       "      <th></th>\n",
       "      <th></th>\n",
       "      <th></th>\n",
       "      <th></th>\n",
       "      <th></th>\n",
       "      <th></th>\n",
       "      <th></th>\n",
       "      <th></th>\n",
       "      <th></th>\n",
       "      <th></th>\n",
       "      <th></th>\n",
       "      <th></th>\n",
       "      <th></th>\n",
       "      <th></th>\n",
       "      <th></th>\n",
       "    </tr>\n",
       "  </thead>\n",
       "  <tbody>\n",
       "    <tr>\n",
       "      <th>333</th>\n",
       "      <td>19</td>\n",
       "      <td>3.72</td>\n",
       "      <td>0</td>\n",
       "      <td>0</td>\n",
       "      <td>0</td>\n",
       "      <td>0</td>\n",
       "      <td>0</td>\n",
       "      <td>0</td>\n",
       "      <td>0</td>\n",
       "      <td>0</td>\n",
       "      <td>...</td>\n",
       "      <td>0</td>\n",
       "      <td>0</td>\n",
       "      <td>0</td>\n",
       "      <td>0</td>\n",
       "      <td>0</td>\n",
       "      <td>0</td>\n",
       "      <td>0</td>\n",
       "      <td>0</td>\n",
       "      <td>0</td>\n",
       "      <td>0</td>\n",
       "    </tr>\n",
       "    <tr>\n",
       "      <th>334</th>\n",
       "      <td>20</td>\n",
       "      <td>3.71</td>\n",
       "      <td>0</td>\n",
       "      <td>0</td>\n",
       "      <td>0</td>\n",
       "      <td>0</td>\n",
       "      <td>0</td>\n",
       "      <td>0</td>\n",
       "      <td>0</td>\n",
       "      <td>0</td>\n",
       "      <td>...</td>\n",
       "      <td>0</td>\n",
       "      <td>0</td>\n",
       "      <td>0</td>\n",
       "      <td>0</td>\n",
       "      <td>0</td>\n",
       "      <td>0</td>\n",
       "      <td>0</td>\n",
       "      <td>0</td>\n",
       "      <td>0</td>\n",
       "      <td>0</td>\n",
       "    </tr>\n",
       "    <tr>\n",
       "      <th>335</th>\n",
       "      <td>24</td>\n",
       "      <td>3.70</td>\n",
       "      <td>0</td>\n",
       "      <td>0</td>\n",
       "      <td>0</td>\n",
       "      <td>0</td>\n",
       "      <td>0</td>\n",
       "      <td>0</td>\n",
       "      <td>0</td>\n",
       "      <td>0</td>\n",
       "      <td>...</td>\n",
       "      <td>0</td>\n",
       "      <td>0</td>\n",
       "      <td>0</td>\n",
       "      <td>0</td>\n",
       "      <td>0</td>\n",
       "      <td>0</td>\n",
       "      <td>0</td>\n",
       "      <td>0</td>\n",
       "      <td>0</td>\n",
       "      <td>0</td>\n",
       "    </tr>\n",
       "    <tr>\n",
       "      <th>336</th>\n",
       "      <td>18</td>\n",
       "      <td>3.70</td>\n",
       "      <td>0</td>\n",
       "      <td>0</td>\n",
       "      <td>0</td>\n",
       "      <td>0</td>\n",
       "      <td>0</td>\n",
       "      <td>1</td>\n",
       "      <td>0</td>\n",
       "      <td>0</td>\n",
       "      <td>...</td>\n",
       "      <td>0</td>\n",
       "      <td>0</td>\n",
       "      <td>0</td>\n",
       "      <td>0</td>\n",
       "      <td>0</td>\n",
       "      <td>0</td>\n",
       "      <td>0</td>\n",
       "      <td>0</td>\n",
       "      <td>0</td>\n",
       "      <td>0</td>\n",
       "    </tr>\n",
       "    <tr>\n",
       "      <th>337</th>\n",
       "      <td>33</td>\n",
       "      <td>3.69</td>\n",
       "      <td>0</td>\n",
       "      <td>0</td>\n",
       "      <td>0</td>\n",
       "      <td>0</td>\n",
       "      <td>0</td>\n",
       "      <td>0</td>\n",
       "      <td>0</td>\n",
       "      <td>0</td>\n",
       "      <td>...</td>\n",
       "      <td>0</td>\n",
       "      <td>0</td>\n",
       "      <td>0</td>\n",
       "      <td>0</td>\n",
       "      <td>0</td>\n",
       "      <td>0</td>\n",
       "      <td>0</td>\n",
       "      <td>0</td>\n",
       "      <td>0</td>\n",
       "      <td>0</td>\n",
       "    </tr>\n",
       "  </tbody>\n",
       "</table>\n",
       "<p>5 rows × 92 columns</p>\n",
       "</div>"
      ],
      "text/plain": [
       "      Year  Global_Sales  2600  3DO  3DS  DC  DS  GB  GBA  GC  ...  \\\n",
       "Rank                                                           ...   \n",
       "333     19          3.72     0    0    0   0   0   0    0   0  ...   \n",
       "334     20          3.71     0    0    0   0   0   0    0   0  ...   \n",
       "335     24          3.70     0    0    0   0   0   0    0   0  ...   \n",
       "336     18          3.70     0    0    0   0   0   1    0   0  ...   \n",
       "337     33          3.69     0    0    0   0   0   0    0   0  ...   \n",
       "\n",
       "      SquareSoft  THQ  Take-Two Interactive  Tecmo Koei  Ubisoft  Unknown  \\\n",
       "Rank                                                                        \n",
       "333            0    0                     0           0        0        0   \n",
       "334            0    0                     0           0        0        0   \n",
       "335            0    0                     0           0        0        0   \n",
       "336            0    0                     0           0        0        0   \n",
       "337            0    0                     0           0        0        0   \n",
       "\n",
       "      Virgin Interactive  Vivendi Games  \\\n",
       "Rank                                      \n",
       "333                    0              0   \n",
       "334                    0              0   \n",
       "335                    0              0   \n",
       "336                    0              0   \n",
       "337                    0              0   \n",
       "\n",
       "      Warner Bros. Interactive Entertainment  Zoo Digital Publishing  \n",
       "Rank                                                                  \n",
       "333                                        0                       0  \n",
       "334                                        0                       0  \n",
       "335                                        0                       0  \n",
       "336                                        0                       0  \n",
       "337                                        0                       0  \n",
       "\n",
       "[5 rows x 92 columns]"
      ]
     },
     "execution_count": 44,
     "metadata": {},
     "output_type": "execute_result"
    }
   ],
   "source": [
    "onehot_encoded_data.head()"
   ]
  },
  {
   "cell_type": "markdown",
   "id": "4f853288",
   "metadata": {},
   "source": [
    "- Ordinal Encoding"
   ]
  },
  {
   "cell_type": "markdown",
   "id": "eb66bc40",
   "metadata": {},
   "source": [
    "We will also do some experiements with Ordinal Encoding"
   ]
  },
  {
   "cell_type": "code",
   "execution_count": 45,
   "id": "6bdf0e09",
   "metadata": {},
   "outputs": [],
   "source": [
    "def ordinal_encoder(data,feature,feature_rank):\n",
    "    \n",
    "    ordinal_dict = {}\n",
    "    \n",
    "    for i, feature_value in enumerate(feature_rank):\n",
    "        ordinal_dict[feature_value]=i+1\n",
    "    \n",
    "    data[feature] = data[feature].map(lambda x: ordinal_dict[x])\n",
    "    \n",
    "    return data"
   ]
  },
  {
   "cell_type": "code",
   "execution_count": 46,
   "id": "0bd1e41a",
   "metadata": {},
   "outputs": [
    {
     "name": "stderr",
     "output_type": "stream",
     "text": [
      "/tmp/ipykernel_3773697/3071495435.py:8: SettingWithCopyWarning: \n",
      "A value is trying to be set on a copy of a slice from a DataFrame.\n",
      "Try using .loc[row_indexer,col_indexer] = value instead\n",
      "\n",
      "See the caveats in the documentation: https://pandas.pydata.org/pandas-docs/stable/user_guide/indexing.html#returning-a-view-versus-a-copy\n",
      "  data[feature] = data[feature].map(lambda x: ordinal_dict[x])\n"
     ]
    },
    {
     "data": {
      "text/html": [
       "<div>\n",
       "<style scoped>\n",
       "    .dataframe tbody tr th:only-of-type {\n",
       "        vertical-align: middle;\n",
       "    }\n",
       "\n",
       "    .dataframe tbody tr th {\n",
       "        vertical-align: top;\n",
       "    }\n",
       "\n",
       "    .dataframe thead th {\n",
       "        text-align: right;\n",
       "    }\n",
       "</style>\n",
       "<table border=\"1\" class=\"dataframe\">\n",
       "  <thead>\n",
       "    <tr style=\"text-align: right;\">\n",
       "      <th></th>\n",
       "      <th>Platform</th>\n",
       "      <th>Year</th>\n",
       "      <th>Genre</th>\n",
       "      <th>Publisher</th>\n",
       "      <th>Global_Sales</th>\n",
       "    </tr>\n",
       "    <tr>\n",
       "      <th>Rank</th>\n",
       "      <th></th>\n",
       "      <th></th>\n",
       "      <th></th>\n",
       "      <th></th>\n",
       "      <th></th>\n",
       "    </tr>\n",
       "  </thead>\n",
       "  <tbody>\n",
       "    <tr>\n",
       "      <th>333</th>\n",
       "      <td>1</td>\n",
       "      <td>19</td>\n",
       "      <td>1</td>\n",
       "      <td>1</td>\n",
       "      <td>3.72</td>\n",
       "    </tr>\n",
       "    <tr>\n",
       "      <th>334</th>\n",
       "      <td>1</td>\n",
       "      <td>20</td>\n",
       "      <td>2</td>\n",
       "      <td>2</td>\n",
       "      <td>3.71</td>\n",
       "    </tr>\n",
       "    <tr>\n",
       "      <th>335</th>\n",
       "      <td>2</td>\n",
       "      <td>24</td>\n",
       "      <td>3</td>\n",
       "      <td>3</td>\n",
       "      <td>3.70</td>\n",
       "    </tr>\n",
       "    <tr>\n",
       "      <th>336</th>\n",
       "      <td>3</td>\n",
       "      <td>18</td>\n",
       "      <td>4</td>\n",
       "      <td>4</td>\n",
       "      <td>3.70</td>\n",
       "    </tr>\n",
       "    <tr>\n",
       "      <th>337</th>\n",
       "      <td>4</td>\n",
       "      <td>33</td>\n",
       "      <td>5</td>\n",
       "      <td>3</td>\n",
       "      <td>3.69</td>\n",
       "    </tr>\n",
       "  </tbody>\n",
       "</table>\n",
       "</div>"
      ],
      "text/plain": [
       "      Platform  Year  Genre  Publisher  Global_Sales\n",
       "Rank                                                \n",
       "333          1    19      1          1          3.72\n",
       "334          1    20      2          2          3.71\n",
       "335          2    24      3          3          3.70\n",
       "336          3    18      4          4          3.70\n",
       "337          4    33      5          3          3.69"
      ]
     },
     "execution_count": 46,
     "metadata": {},
     "output_type": "execute_result"
    }
   ],
   "source": [
    "ordinal_encoded_data = cleaned_data\n",
    "\n",
    "\n",
    "ordinal_encoder(ordinal_encoded_data, 'Platform', ordinal_encoded_data.Platform.unique())\n",
    "\n",
    "ordinal_encoder(ordinal_encoded_data, 'Publisher', ordinal_encoded_data.Publisher.unique())\n",
    "\n",
    "ordinal_encoder(ordinal_encoded_data, 'Genre', ordinal_encoded_data.Genre.unique())\n",
    "\n",
    "ordinal_encoded_data.head()"
   ]
  },
  {
   "cell_type": "markdown",
   "id": "e2590b9c",
   "metadata": {},
   "source": [
    "## Machine Learning models"
   ]
  },
  {
   "cell_type": "markdown",
   "id": "aa124205",
   "metadata": {},
   "source": [
    "### We will start with experiments with the One Hot Encoded Data"
   ]
  },
  {
   "cell_type": "code",
   "execution_count": 84,
   "id": "df46ad34",
   "metadata": {},
   "outputs": [],
   "source": [
    "y = onehot_encoded_data['Global_Sales']\n",
    "X = onehot_encoded_data.drop(['Global_Sales'], axis=1)"
   ]
  },
  {
   "cell_type": "markdown",
   "id": "aba99e19",
   "metadata": {},
   "source": [
    "We will split the dataset as 80% training and 20% testing "
   ]
  },
  {
   "cell_type": "code",
   "execution_count": 85,
   "id": "b0ce09a3",
   "metadata": {},
   "outputs": [],
   "source": [
    "X_train, X_test, y_train, y_test = train_test_split(X, y, train_size=0.8, random_state=42)"
   ]
  },
  {
   "cell_type": "markdown",
   "id": "1c694969",
   "metadata": {},
   "source": [
    "### Multi Linear Regression "
   ]
  },
  {
   "cell_type": "code",
   "execution_count": 86,
   "id": "aad6d0d8",
   "metadata": {},
   "outputs": [],
   "source": [
    "from sklearn.linear_model import LinearRegression\n",
    "from sklearn.metrics import mean_absolute_error, mean_squared_error\n",
    "\n",
    "import math\n",
    "from sklearn.metrics import mean_squared_error"
   ]
  },
  {
   "cell_type": "code",
   "execution_count": 87,
   "id": "e52a9cf6",
   "metadata": {},
   "outputs": [],
   "source": [
    "def plot_learning_curves(model, X_data, y_data):\n",
    "    X_tr, X_val, y_tr, y_val = train_test_split(X_data, y_data, test_size=0.2, random_state=10)\n",
    "    train_errors, val_errors = [], []\n",
    "    for m in range(1, len(X_tr) + 1, 100):\n",
    "        model.fit(X_tr[:m], y_tr[:m])\n",
    "        y_train_predict = model.predict(X_tr[:m])\n",
    "        y_val_predict = model.predict(X_val)\n",
    "        train_errors.append(mean_squared_error(y_tr[:m], y_train_predict))\n",
    "        val_errors.append(mean_squared_error(y_val, y_val_predict))\n",
    "\n",
    "\n",
    "    x_ax = range(1, len(X_tr) + 1, 100)\n",
    "    pyplot.plot(x_ax, np.sqrt(train_errors), \"r-+\", linewidth=2, label=\"train\")\n",
    "    pyplot.plot(x_ax, np.sqrt(val_errors), \"b-\", linewidth=3, label=\"val\")\n",
    "    pyplot.legend(loc=\"upper right\", fontsize=14) \n",
    "    pyplot.xlabel(\"Training set size\", fontsize=14)\n",
    "    pyplot.ylabel(\"RMSE\", fontsize=14)   \n"
   ]
  },
  {
   "cell_type": "markdown",
   "id": "4636f704",
   "metadata": {},
   "source": [
    "Here we used the training data to plot the learning curve for the linear regression mode. The plot_learning_curves function will split the training data into training and validation."
   ]
  },
  {
   "cell_type": "code",
   "execution_count": 88,
   "id": "82347f86",
   "metadata": {},
   "outputs": [
    {
     "data": {
      "image/png": "[encoded data removed]",
      "text/plain": [
       "<Figure size 432x288 with 1 Axes>"
      ]
     },
     "metadata": {
      "needs_background": "light"
     },
     "output_type": "display_data"
    }
   ],
   "source": [
    "lnr= LinearRegression()\n",
    "plot_learning_curves(lnr, X_train, y_train)\n",
    "pyplot.show()"
   ]
  },
  {
   "cell_type": "markdown",
   "id": "aa423570",
   "metadata": {},
   "source": [
    "Now we will use train the Linear regression model on all of the training data"
   ]
  },
  {
   "cell_type": "code",
   "execution_count": 89,
   "id": "4fccbe47",
   "metadata": {},
   "outputs": [
    {
     "data": {
      "text/plain": [
       "LinearRegression()"
      ]
     },
     "execution_count": 89,
     "metadata": {},
     "output_type": "execute_result"
    }
   ],
   "source": [
    "import math\n",
    "from sklearn.metrics import mean_squared_error\n",
    "lnr= LinearRegression()\n",
    "lnr.fit(X_train, y_train)"
   ]
  },
  {
   "cell_type": "markdown",
   "id": "75d50e75",
   "metadata": {},
   "source": [
    "Then use the model to predict the sales for the test data"
   ]
  },
  {
   "cell_type": "code",
   "execution_count": 90,
   "id": "50bde473",
   "metadata": {},
   "outputs": [],
   "source": [
    "y_pred = lnr.predict(X_test)"
   ]
  },
  {
   "cell_type": "code",
   "execution_count": 91,
   "id": "aa452640",
   "metadata": {},
   "outputs": [
    {
     "data": {
      "image/png": "[encoded data removed]",
      "text/plain": [
       "<Figure size 432x288 with 1 Axes>"
      ]
     },
     "metadata": {
      "needs_background": "light"
     },
     "output_type": "display_data"
    }
   ],
   "source": [
    "x_ax = range(len(y_test))\n",
    "pyplot.plot(x_ax, y_test, label=\"original\")\n",
    "pyplot.plot(x_ax, y_pred, label=\"predicted\")\n",
    "pyplot.title(\"test and predicted data\")\n",
    "pyplot.legend()\n",
    "pyplot.show()"
   ]
  },
  {
   "cell_type": "markdown",
   "id": "f38ba0a0",
   "metadata": {},
   "source": [
    "Then we compute Mean absolute error, Meas squared error, and Root mean squared error"
   ]
  },
  {
   "cell_type": "code",
   "execution_count": 92,
   "id": "b5b2f0de",
   "metadata": {},
   "outputs": [
    {
     "name": "stdout",
     "output_type": "stream",
     "text": [
      "Mean absolute error: 0.3209\n",
      "Mean squared error: 0.2724\n",
      "Root mean squared error: 0.5219\n"
     ]
    }
   ],
   "source": [
    "mae = mean_absolute_error(y_test, y_pred)\n",
    "mse = mean_squared_error(y_test, y_pred)\n",
    "rmse = np.sqrt(mse)\n",
    "\n",
    "print(f'Mean absolute error: {mae:.4f}')\n",
    "print(f'Mean squared error: {mse:.4f}')\n",
    "print(f'Root mean squared error: {rmse:.4f}')"
   ]
  },
  {
   "cell_type": "markdown",
   "id": "0ba2eec3",
   "metadata": {},
   "source": [
    "### Polynomial Regression"
   ]
  },
  {
   "cell_type": "code",
   "execution_count": 93,
   "id": "de2698a2",
   "metadata": {},
   "outputs": [
    {
     "name": "stdout",
     "output_type": "stream",
     "text": [
      "Training Root mean squared error: 0.46\n"
     ]
    }
   ],
   "source": [
    "from sklearn.preprocessing import PolynomialFeatures\n",
    "\n",
    "poly_features = PolynomialFeatures(degree=2)\n",
    "x_train_poly = poly_features.fit_transform(X_train)\n",
    "\n",
    "\n",
    "poly_model = LinearRegression()\n",
    "poly_model.fit(x_train_poly, y_train)\n",
    "LinearRegression()\n",
    "\n",
    "\n",
    "y_train_pred = poly_model.predict(x_train_poly)\n",
    "rmse_train = np.sqrt(mean_squared_error(y_train,y_train_pred))\n",
    "\n",
    "print(f'Training Root mean squared error: {rmse_train:.2f}')\n"
   ]
  },
  {
   "cell_type": "code",
   "execution_count": 94,
   "id": "b2bd96ce",
   "metadata": {},
   "outputs": [
    {
     "name": "stdout",
     "output_type": "stream",
     "text": [
      "Testing Root mean squared error: 29443199.12\n"
     ]
    }
   ],
   "source": [
    "y_test_pred = poly_model.predict(poly_features.fit_transform(X_test))\n",
    "rmse_test = np.sqrt(mean_squared_error(y_test, y_test_pred))\n",
    "\n",
    "print(f'Testing Root mean squared error: {rmse_test:.2f}')\n",
    "\n"
   ]
  },
  {
   "cell_type": "markdown",
   "id": "24c215a8",
   "metadata": {},
   "source": [
    "### SVM"
   ]
  },
  {
   "cell_type": "code",
   "execution_count": 58,
   "id": "377743e8",
   "metadata": {},
   "outputs": [
    {
     "name": "stderr",
     "output_type": "stream",
     "text": [
      "/home/mjaber/anaconda3/lib/python3.9/site-packages/sklearn/svm/_base.py:1206: ConvergenceWarning: Liblinear failed to converge, increase the number of iterations.\n",
      "  warnings.warn(\n"
     ]
    },
    {
     "data": {
      "text/plain": [
       "LinearSVR(random_state=42)"
      ]
     },
     "execution_count": 58,
     "metadata": {},
     "output_type": "execute_result"
    }
   ],
   "source": [
    "from sklearn.svm import LinearSVR\n",
    "\n",
    "lin_svr = LinearSVR(random_state=42)\n",
    "lin_svr.fit(X_train, y_train)"
   ]
  },
  {
   "cell_type": "code",
   "execution_count": 59,
   "id": "f0393e02",
   "metadata": {},
   "outputs": [
    {
     "name": "stdout",
     "output_type": "stream",
     "text": [
      "Testing Root mean squared error: 0.52\n"
     ]
    }
   ],
   "source": [
    "from sklearn.metrics import mean_squared_error\n",
    "\n",
    "y_pred = lin_svr.predict(X_train)\n",
    "mse = mean_squared_error(y_train, y_pred)\n",
    "rmse_train = np.sqrt(mse)\n",
    "\n",
    "print(f'Testing Root mean squared error: {rmse_train:.2f}')"
   ]
  },
  {
   "cell_type": "code",
   "execution_count": 60,
   "id": "827aaae2",
   "metadata": {},
   "outputs": [
    {
     "name": "stdout",
     "output_type": "stream",
     "text": [
      "Testing Root mean squared error: 0.54\n"
     ]
    }
   ],
   "source": [
    "y_pred = lin_svr.predict(X_test)\n",
    "\n",
    "mse = mean_squared_error(y_test, y_pred)\n",
    "\n",
    "rmse_test = np.sqrt(mse)\n",
    "\n",
    "print(f'Testing Root mean squared error: {rmse_test:.2f}')"
   ]
  },
  {
   "cell_type": "code",
   "execution_count": 61,
   "id": "a3aae622",
   "metadata": {},
   "outputs": [
    {
     "name": "stdout",
     "output_type": "stream",
     "text": [
      "Fitting 3 folds for each of 10 candidates, totalling 30 fits\n",
      "[CV] END .....C=4.745401188473625, gamma=0.07969454818643928; total time=   6.6s\n",
      "[CV] END .....C=4.745401188473625, gamma=0.07969454818643928; total time=   6.7s\n",
      "[CV] END .....C=4.745401188473625, gamma=0.07969454818643928; total time=   6.7s\n",
      "[CV] END .....C=8.31993941811405, gamma=0.015751320499779724; total time=   5.4s\n",
      "[CV] END .....C=8.31993941811405, gamma=0.015751320499779724; total time=   5.4s\n",
      "[CV] END .....C=8.31993941811405, gamma=0.015751320499779724; total time=   5.4s\n",
      "[CV] END ....C=2.560186404424365, gamma=0.002051110418843397; total time=   4.7s\n",
      "[CV] END ....C=2.560186404424365, gamma=0.002051110418843397; total time=   4.6s\n",
      "[CV] END ....C=2.560186404424365, gamma=0.002051110418843397; total time=   4.6s\n",
      "[CV] END ....C=1.5808361216819946, gamma=0.05399484409787431; total time=   4.8s\n",
      "[CV] END ....C=1.5808361216819946, gamma=0.05399484409787431; total time=   4.9s\n",
      "[CV] END ....C=1.5808361216819946, gamma=0.05399484409787431; total time=   4.8s\n",
      "[CV] END ....C=7.011150117432088, gamma=0.026070247583707663; total time=   5.6s\n",
      "[CV] END ....C=7.011150117432088, gamma=0.026070247583707663; total time=   5.7s\n",
      "[CV] END ....C=7.011150117432088, gamma=0.026070247583707663; total time=   5.7s\n",
      "[CV] END .....C=1.2058449429580245, gamma=0.0870602087830485; total time=   4.9s\n",
      "[CV] END .....C=1.2058449429580245, gamma=0.0870602087830485; total time=   4.9s\n",
      "[CV] END .....C=1.2058449429580245, gamma=0.0870602087830485; total time=   4.9s\n",
      "[CV] END ...C=9.324426408004218, gamma=0.0026587543983272693; total time=   4.7s\n",
      "[CV] END ...C=9.324426408004218, gamma=0.0026587543983272693; total time=   4.7s\n",
      "[CV] END ...C=9.324426408004218, gamma=0.0026587543983272693; total time=   4.8s\n",
      "[CV] END ...C=2.818249672071006, gamma=0.0023270677083837795; total time=   4.6s\n",
      "[CV] END ...C=2.818249672071006, gamma=0.0023270677083837795; total time=   4.6s\n",
      "[CV] END ...C=2.818249672071006, gamma=0.0023270677083837795; total time=   4.7s\n",
      "[CV] END ....C=4.042422429595377, gamma=0.011207606211860567; total time=   5.2s\n",
      "[CV] END ....C=4.042422429595377, gamma=0.011207606211860567; total time=   5.3s\n",
      "[CV] END ....C=4.042422429595377, gamma=0.011207606211860567; total time=   4.9s\n",
      "[CV] END ....C=5.319450186421157, gamma=0.003823475224675185; total time=   4.7s\n",
      "[CV] END ....C=5.319450186421157, gamma=0.003823475224675185; total time=   4.6s\n",
      "[CV] END ....C=5.319450186421157, gamma=0.003823475224675185; total time=   4.7s\n"
     ]
    },
    {
     "data": {
      "text/plain": [
       "RandomizedSearchCV(cv=3, estimator=SVR(),\n",
       "                   param_distributions={'C': <scipy.stats._distn_infrastructure.rv_frozen object at 0x7f16a6227730>,\n",
       "                                        'gamma': <scipy.stats._distn_infrastructure.rv_frozen object at 0x7f16a947bf40>},\n",
       "                   random_state=42, verbose=2)"
      ]
     },
     "execution_count": 61,
     "metadata": {},
     "output_type": "execute_result"
    }
   ],
   "source": [
    "from sklearn.svm import SVR\n",
    "from sklearn.model_selection import RandomizedSearchCV\n",
    "from scipy.stats import reciprocal, uniform\n",
    "\n",
    "param_distributions = {\"gamma\": reciprocal(0.001, 0.1), \"C\": uniform(1, 10)}\n",
    "rnd_search_cv = RandomizedSearchCV(SVR(), param_distributions, n_iter=10, verbose=2, cv=3, random_state=42)\n",
    "rnd_search_cv.fit(X_train, y_train)"
   ]
  },
  {
   "cell_type": "code",
   "execution_count": 62,
   "id": "839b9a42",
   "metadata": {},
   "outputs": [
    {
     "name": "stdout",
     "output_type": "stream",
     "text": [
      "Training MSE: 0.21\n",
      "Training RMSE: 0.46\n"
     ]
    }
   ],
   "source": [
    "y_pred = rnd_search_cv.best_estimator_.predict(X_train)\n",
    "mse = mean_squared_error(y_train, y_pred)\n",
    "\n",
    "rmse_tr = np.sqrt(mse)\n",
    "\n",
    "\n",
    "print(f'Training MSE: {mse:.2f}')\n",
    "\n",
    "print(f'Training RMSE: {rmse_tr:.2f}')\n",
    "\n"
   ]
  },
  {
   "cell_type": "code",
   "execution_count": 78,
   "id": "3bcd21e2",
   "metadata": {},
   "outputs": [
    {
     "name": "stdout",
     "output_type": "stream",
     "text": [
      "Testing MSE: 0.27\n",
      "Testing RMSE: 0.52\n"
     ]
    }
   ],
   "source": [
    "y_pred = rnd_search_cv.best_estimator_.predict(X_test)\n",
    "mse = mean_squared_error(y_test, y_pred)\n",
    "\n",
    "rmse_testing = np.sqrt(mse)\n",
    "\n",
    "print(f'Testing MSE: {mse:.2f}')\n",
    "\n",
    "print(f'Testing RMSE: {rmse_testing:.2f}')\n"
   ]
  },
  {
   "cell_type": "code",
   "execution_count": 64,
   "id": "d21af62a",
   "metadata": {},
   "outputs": [
    {
     "data": {
      "image/png": "[encoded data removed]",
      "text/plain": [
       "<Figure size 432x288 with 1 Axes>"
      ]
     },
     "metadata": {
      "needs_background": "light"
     },
     "output_type": "display_data"
    }
   ],
   "source": [
    "x_ax = range(len(y_test))\n",
    "pyplot.plot(x_ax, y_test, label=\"original\")\n",
    "pyplot.plot(x_ax, y_pred, label=\"predicted\")\n",
    "pyplot.title(\"test and predicted data\")\n",
    "pyplot.legend()\n",
    "pyplot.show()"
   ]
  },
  {
   "cell_type": "markdown",
   "id": "0f72c279",
   "metadata": {},
   "source": [
    "### Now we will do experiments with Oridnal Encoded data"
   ]
  },
  {
   "cell_type": "code",
   "execution_count": 79,
   "id": "1252153b",
   "metadata": {},
   "outputs": [],
   "source": [
    "y_ordinal = ordinal_encoded_data['Global_Sales']\n",
    "X_ordinal = ordinal_encoded_data.drop(['Global_Sales'], axis=1)"
   ]
  },
  {
   "cell_type": "code",
   "execution_count": 80,
   "id": "16e9250b",
   "metadata": {},
   "outputs": [],
   "source": [
    "X_train_ord, X_test_ord, y_train_ord, y_test_ord = train_test_split(X_ordinal, y_ordinal, train_size=0.8, random_state=42)"
   ]
  },
  {
   "cell_type": "markdown",
   "id": "034df983",
   "metadata": {},
   "source": [
    "### Linear Regression"
   ]
  },
  {
   "cell_type": "code",
   "execution_count": 81,
   "id": "41f88306",
   "metadata": {},
   "outputs": [
    {
     "name": "stdout",
     "output_type": "stream",
     "text": [
      "Root Mean Squared Error of the model : 0.564\n"
     ]
    },
    {
     "data": {
      "image/png": "[encoded data removed]",
      "text/plain": [
       "<Figure size 432x288 with 1 Axes>"
      ]
     },
     "metadata": {
      "needs_background": "light"
     },
     "output_type": "display_data"
    }
   ],
   "source": [
    "import math\n",
    "from sklearn.metrics import mean_squared_error\n",
    "lnr= LinearRegression()\n",
    "lnr.fit(X_train_ord, y_train_ord)\n",
    "y_pred = lnr.predict(X_test_ord)\n",
    "rmse_lnr = math.sqrt(mean_squared_error(y_test_ord, y_pred))\n",
    "print(f\"Root Mean Squared Error of the model : {rmse_lnr:.3f}\")\n",
    "x_ax = range(len(y_test_ord))\n",
    "pyplot.plot(x_ax, y_test_ord, label=\"original\")\n",
    "pyplot.plot(x_ax, y_pred, label=\"predicted\")\n",
    "pyplot.title(\"test and predicted data\")\n",
    "pyplot.legend()\n",
    "pyplot.show()"
   ]
  },
  {
   "cell_type": "markdown",
   "id": "08aa7b5d",
   "metadata": {},
   "source": [
    "### Polynomial Regression"
   ]
  },
  {
   "cell_type": "code",
   "execution_count": 82,
   "id": "f4caaccc",
   "metadata": {},
   "outputs": [
    {
     "name": "stdout",
     "output_type": "stream",
     "text": [
      "0.5348715436000537\n"
     ]
    }
   ],
   "source": [
    " from sklearn.preprocessing import PolynomialFeatures\n",
    "\n",
    "poly_features = PolynomialFeatures(degree=3)\n",
    "x_train_ord_poly = poly_features.fit_transform(X_train_ord)\n",
    "\n",
    "poly_model = LinearRegression()\n",
    "poly_model.fit(x_train_ord_poly, y_train_ord)\n",
    "LinearRegression()\n",
    "y_train_pred = poly_model.predict(x_train_ord_poly)\n",
    "rmse_train = np.sqrt(mean_squared_error(y_train_ord,y_train_pred))\n",
    "print(rmse_train)\n",
    " \n"
   ]
  },
  {
   "cell_type": "code",
   "execution_count": 83,
   "id": "4eeb7473",
   "metadata": {},
   "outputs": [
    {
     "name": "stdout",
     "output_type": "stream",
     "text": [
      "0.553909732366244\n"
     ]
    }
   ],
   "source": [
    "y_test_pred = poly_model.predict(poly_features.fit_transform(X_test_ord))\n",
    "rmse_test = np.sqrt(mean_squared_error(y_test_ord, y_test_pred))\n",
    "print(rmse_test)"
   ]
  },
  {
   "cell_type": "code",
   "execution_count": 70,
   "id": "dfe59aa9",
   "metadata": {},
   "outputs": [
    {
     "name": "stdout",
     "output_type": "stream",
     "text": [
      "Testing Root mean squared error: 0.77\n"
     ]
    },
    {
     "name": "stderr",
     "output_type": "stream",
     "text": [
      "/home/mjaber/anaconda3/lib/python3.9/site-packages/sklearn/svm/_base.py:1206: ConvergenceWarning: Liblinear failed to converge, increase the number of iterations.\n",
      "  warnings.warn(\n"
     ]
    },
    {
     "data": {
      "image/png": "[encoded data removed]",
      "text/plain": [
       "<Figure size 432x288 with 1 Axes>"
      ]
     },
     "metadata": {
      "needs_background": "light"
     },
     "output_type": "display_data"
    }
   ],
   "source": [
    "from sklearn.svm import LinearSVR\n",
    "\n",
    "lin_svr = LinearSVR(random_state=42)\n",
    "lin_svr.fit(X_train_ord, y_train_ord)\n",
    "\n",
    "from sklearn.metrics import mean_squared_error\n",
    "y_test_pred = lin_svr.predict(X_test_ord)\n",
    "\n",
    "mse = mean_squared_error(y_test_ord, y_test_pred)\n",
    "\n",
    "rmse_test = np.sqrt(mse)\n",
    "\n",
    "print(f'Testing Root mean squared error: {rmse_test:.2f}')\n",
    "\n",
    "x_ax = range(len(y_test_ord))\n",
    "pyplot.plot(x_ax, y_test_ord, label=\"original\")\n",
    "pyplot.plot(x_ax, y_test_pred, label=\"predicted\")\n",
    "pyplot.title(\"test and predicted data\")\n",
    "pyplot.legend()\n",
    "pyplot.show()"
   ]
  },
  {
   "cell_type": "markdown",
   "id": "6d44fc22",
   "metadata": {},
   "source": [
    "##### We will do experiemnts with Ordinal Encoding + Normalization \n"
   ]
  },
  {
   "cell_type": "code",
   "execution_count": 71,
   "id": "bcdfc9db",
   "metadata": {},
   "outputs": [],
   "source": [
    "from sklearn import preprocessing\n",
    "\n",
    "norm_data = preprocessing.normalize(ordinal_encoded_data)\n",
    "\n",
    "X_lb = norm_data[:,0:4]\n",
    "y_lb = norm_data[:,4]\n"
   ]
  },
  {
   "cell_type": "code",
   "execution_count": 72,
   "id": "7e2841f3",
   "metadata": {},
   "outputs": [],
   "source": [
    "X_train_lb, X_test_lb, y_train_lb, y_test_lb = train_test_split(X_lb, y_lb, train_size=0.8, random_state=42)"
   ]
  },
  {
   "cell_type": "markdown",
   "id": "0e770495",
   "metadata": {},
   "source": [
    "### Linear Regression"
   ]
  },
  {
   "cell_type": "code",
   "execution_count": 73,
   "id": "ecaf232b",
   "metadata": {},
   "outputs": [
    {
     "name": "stdout",
     "output_type": "stream",
     "text": [
      "Root Mean Squared Error of the model : 0.021\n"
     ]
    },
    {
     "data": {
      "image/png": "[encoded data removed]",
      "text/plain": [
       "<Figure size 432x288 with 1 Axes>"
      ]
     },
     "metadata": {
      "needs_background": "light"
     },
     "output_type": "display_data"
    }
   ],
   "source": [
    "import math\n",
    "from sklearn.metrics import mean_squared_error\n",
    "lnr= LinearRegression()\n",
    "lnr.fit(X_train_lb, y_train_lb)\n",
    "y_pred = lnr.predict(X_test_lb)\n",
    "rmse_lnr = math.sqrt(mean_squared_error(y_test_lb, y_pred))\n",
    "print(f\"Root Mean Squared Error of the model : {rmse_lnr:.3f}\")\n",
    "x_ax = range(len(y_test_lb))\n",
    "pyplot.plot(x_ax, y_test_lb, label=\"original\")\n",
    "pyplot.plot(x_ax, y_pred, label=\"predicted\")\n",
    "pyplot.title(\"test and predicted data\")\n",
    "pyplot.legend()\n",
    "pyplot.show()"
   ]
  },
  {
   "cell_type": "markdown",
   "id": "ff9b1db1",
   "metadata": {},
   "source": [
    "### Polynomial Regression"
   ]
  },
  {
   "cell_type": "code",
   "execution_count": 74,
   "id": "6d9f22d5",
   "metadata": {},
   "outputs": [
    {
     "name": "stdout",
     "output_type": "stream",
     "text": [
      "0.0061392464901977506\n"
     ]
    }
   ],
   "source": [
    "from sklearn.preprocessing import PolynomialFeatures\n",
    "\n",
    "poly_features = PolynomialFeatures(degree=4)\n",
    "x_train_poly = poly_features.fit_transform(X_train_lb)\n",
    "\n",
    "\n",
    "poly_model = LinearRegression()\n",
    "poly_model.fit(x_train_poly, y_train_lb)\n",
    "LinearRegression()\n",
    "\n",
    "\n",
    "y_train_pred = poly_model.predict(x_train_poly)\n",
    "rmse_train = np.sqrt(mean_squared_error(y_train_lb,y_train_pred))\n",
    "print(rmse_train)\n",
    " \n"
   ]
  },
  {
   "cell_type": "code",
   "execution_count": 75,
   "id": "8f0eb785",
   "metadata": {},
   "outputs": [
    {
     "name": "stdout",
     "output_type": "stream",
     "text": [
      "0.006489315825400639\n"
     ]
    }
   ],
   "source": [
    "\n",
    "y_test_pred = poly_model.predict(poly_features.fit_transform(X_test_lb))\n",
    "rmse_test = np.sqrt(mean_squared_error(y_test_lb, y_test_pred))\n",
    "print(rmse_test)"
   ]
  },
  {
   "cell_type": "code",
   "execution_count": 76,
   "id": "61953c53",
   "metadata": {},
   "outputs": [
    {
     "data": {
      "image/png": "[encoded data removed]",
      "text/plain": [
       "<Figure size 432x288 with 1 Axes>"
      ]
     },
     "metadata": {
      "needs_background": "light"
     },
     "output_type": "display_data"
    }
   ],
   "source": [
    "x_ax = range(len(y_test_lb))\n",
    "pyplot.plot(x_ax, y_test_lb, label=\"original\")\n",
    "pyplot.plot(x_ax, y_test_pred, label=\"predicted\")\n",
    "pyplot.title(\"test and predicted data\")\n",
    "pyplot.legend()\n",
    "pyplot.show()"
   ]
  },
  {
   "cell_type": "code",
   "execution_count": 77,
   "id": "349e58c6",
   "metadata": {},
   "outputs": [
    {
     "name": "stdout",
     "output_type": "stream",
     "text": [
      "Testing Root mean squared error: 0.02\n"
     ]
    },
    {
     "name": "stderr",
     "output_type": "stream",
     "text": [
      "/home/mjaber/anaconda3/lib/python3.9/site-packages/sklearn/svm/_base.py:1206: ConvergenceWarning: Liblinear failed to converge, increase the number of iterations.\n",
      "  warnings.warn(\n"
     ]
    },
    {
     "data": {
      "image/png": "[encoded data removed]",
      "text/plain": [
       "<Figure size 432x288 with 1 Axes>"
      ]
     },
     "metadata": {
      "needs_background": "light"
     },
     "output_type": "display_data"
    }
   ],
   "source": [
    "from sklearn.svm import LinearSVR\n",
    "\n",
    "lin_svr = LinearSVR(random_state=42)\n",
    "lin_svr.fit(X_train_lb, y_train_lb)\n",
    "\n",
    "from sklearn.metrics import mean_squared_error\n",
    "y_test_pred = lin_svr.predict(X_test_lb)\n",
    "\n",
    "mse = mean_squared_error(y_test_lb, y_test_pred)\n",
    "\n",
    "rmse_test = np.sqrt(mse)\n",
    "\n",
    "print(f'Testing Root mean squared error: {rmse_test:.2f}')\n",
    "\n",
    "x_ax = range(len(y_test_lb))\n",
    "pyplot.plot(x_ax, y_test_lb, label=\"original\")\n",
    "pyplot.plot(x_ax, y_test_pred, label=\"predicted\")\n",
    "pyplot.title(\"test and predicted data\")\n",
    "pyplot.legend()\n",
    "pyplot.show()"
   ]
  },
  {
   "cell_type": "code",
   "execution_count": null,
   "id": "01b99c39",
   "metadata": {},
   "outputs": [],
   "source": []
  }
 ],
 "metadata": {
  "kernelspec": {
   "display_name": "Python 3",
   "language": "python",
   "name": "python3"
  },
  "language_info": {
   "codemirror_mode": {
    "name": "ipython",
    "version": 3
   },
   "file_extension": ".py",
   "mimetype": "text/x-python",
   "name": "python",
   "nbconvert_exporter": "python",
   "pygments_lexer": "ipython3",
   "version": "3.9.12"
  }
 },
 "nbformat": 4,
 "nbformat_minor": 5
}
